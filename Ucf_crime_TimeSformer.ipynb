{
  "cells": [
    {
      "cell_type": "code",
      "execution_count": 1,
      "metadata": {
        "id": "UQC6YTGMOkux"
      },
      "outputs": [],
      "source": [
        "! pip install -q kaggle"
      ]
    },
    {
      "cell_type": "code",
      "execution_count": null,
      "metadata": {
        "colab": {
          "base_uri": "https://localhost:8080/",
          "height": 90
        },
        "id": "5XPbSs_oOx8h",
        "outputId": "626c6c23-c76b-48c0-f9fa-0e1915e2ba55"
      },
      "outputs": [],
      "source": [
        "from google.colab import files\n",
        "\n",
        "files.upload()"
      ]
    },
    {
      "cell_type": "code",
      "execution_count": null,
      "metadata": {
        "id": "t9KKS6flPI2-"
      },
      "outputs": [],
      "source": [
        " ! mkdir ~/.kaggle"
      ]
    },
    {
      "cell_type": "code",
      "execution_count": null,
      "metadata": {
        "id": "5Fz2NHlQPNmE"
      },
      "outputs": [],
      "source": [
        "! cp kaggle.json ~/.kaggle/"
      ]
    },
    {
      "cell_type": "code",
      "execution_count": null,
      "metadata": {
        "id": "MRIw7wGPPWQ9"
      },
      "outputs": [],
      "source": [
        "! chmod 600 ~/.kaggle/kaggle.json"
      ]
    },
    {
      "cell_type": "code",
      "execution_count": null,
      "metadata": {
        "colab": {
          "base_uri": "https://localhost:8080/"
        },
        "id": "pQCDMofNPdCb",
        "outputId": "68dc06c1-77ac-41c7-8ab3-7d8b59943026"
      },
      "outputs": [],
      "source": [
        "! kaggle datasets list"
      ]
    },
    {
      "cell_type": "code",
      "execution_count": null,
      "metadata": {
        "colab": {
          "base_uri": "https://localhost:8080/"
        },
        "id": "bSXcChpUPpxA",
        "outputId": "1a60891e-d103-465a-b934-0831de011e74"
      },
      "outputs": [],
      "source": [
        "!kaggle datasets download -d odins0n/ucf-crime-dataset"
      ]
    },
    {
      "cell_type": "code",
      "execution_count": null,
      "metadata": {
        "colab": {
          "base_uri": "https://localhost:8080/"
        },
        "id": "YBCARKVrRR6O",
        "outputId": "c1a8cb68-9fa8-4b60-e7ca-33a10195fbab"
      },
      "outputs": [],
      "source": [
        "from zipfile import ZipFile\n",
        "\n",
        "zip_path= \"C:\\\\Users\\\\user\\\\Desktop\\\\raushan\\\\ucf-crime-dataset.zip\"\n",
        "\n",
        "with ZipFile(zip_path, 'r') as zip_ref:\n",
        "    zip_ref.extractall('C:\\\\Users\\\\user\\\\Desktop\\\\raushan')\n",
        "print('unzipping completed')   "
      ]
    },
    {
      "cell_type": "code",
      "execution_count": 1,
      "metadata": {},
      "outputs": [
        {
          "name": "stdout",
          "output_type": "stream",
          "text": [
            "Requirement already satisfied: scikit-learn in c:\\users\\user\\appdata\\local\\programs\\python\\python312\\lib\\site-packages (1.5.2)\n",
            "Requirement already satisfied: numpy>=1.19.5 in c:\\users\\user\\appdata\\local\\programs\\python\\python312\\lib\\site-packages (from scikit-learn) (1.26.3)\n",
            "Requirement already satisfied: scipy>=1.6.0 in c:\\users\\user\\appdata\\local\\programs\\python\\python312\\lib\\site-packages (from scikit-learn) (1.14.1)\n",
            "Requirement already satisfied: joblib>=1.2.0 in c:\\users\\user\\appdata\\local\\programs\\python\\python312\\lib\\site-packages (from scikit-learn) (1.4.2)\n",
            "Requirement already satisfied: threadpoolctl>=3.1.0 in c:\\users\\user\\appdata\\local\\programs\\python\\python312\\lib\\site-packages (from scikit-learn) (3.5.0)\n",
            "Note: you may need to restart the kernel to use updated packages.\n"
          ]
        }
      ],
      "source": [
        "pip install scikit-learn"
      ]
    },
    {
      "cell_type": "code",
      "execution_count": 1,
      "metadata": {
        "id": "jeA2AG3BUCo0"
      },
      "outputs": [],
      "source": [
        "import os\n",
        "from glob import glob\n",
        "import torch\n",
        "from sklearn.model_selection import train_test_split\n",
        "\n",
        "# Define a function to collect all frame paths and their respective labels\n",
        "def load_dataset(root_dir):\n",
        "    classes = os.listdir(root_dir)\n",
        "    frame_paths = []\n",
        "    labels = []\n",
        "\n",
        "    for class_idx, class_name in enumerate(classes):\n",
        "        class_path = os.path.join(root_dir, class_name)\n",
        "        images = glob(os.path.join(class_path, \"*.png\"))\n",
        "        frame_paths.extend(images)\n",
        "        labels.extend([class_idx] * len(images))\n",
        "\n",
        "    return frame_paths, labels\n",
        "\n",
        "# Load train and test datasets\n",
        "train_root_dir = \"C:\\\\Users\\\\user\\\\Desktop\\\\raushan\\\\Train\"\n",
        "test_root_dir = \"C:\\\\Users\\\\user\\\\Desktop\\\\raushan\\\\Test\"\n",
        "\n",
        "train_frame_paths, train_labels = load_dataset(train_root_dir)\n",
        "test_frame_paths, test_labels = load_dataset(test_root_dir)\n",
        "\n",
        "# Optionally split the train data for validation\n",
        "train_frame_paths, val_frame_paths, train_labels, val_labels = train_test_split(\n",
        "    train_frame_paths, train_labels, test_size=0.1, random_state=42,train_size=0.9\n",
        ")\n"
      ]
    },
    {
      "cell_type": "code",
      "execution_count": 2,
      "metadata": {
        "colab": {
          "base_uri": "https://localhost:8080/"
        },
        "id": "eYxLw9MBVCsL",
        "outputId": "2f007598-34b0-43c3-8928-8a46f53da98d"
      },
      "outputs": [
        {
          "name": "stdout",
          "output_type": "stream",
          "text": [
            "1139710\n",
            "126635\n",
            "111308\n"
          ]
        }
      ],
      "source": [
        "print(len(train_frame_paths))\n",
        "print(len(val_frame_paths))\n",
        "print(len(test_frame_paths))"
      ]
    },
    {
      "cell_type": "code",
      "execution_count": 2,
      "metadata": {
        "colab": {
          "base_uri": "https://localhost:8080/"
        },
        "id": "Q5AWeI4ElrAF",
        "outputId": "84929799-e3cf-432e-ec3e-84be5bc2d28f"
      },
      "outputs": [
        {
          "name": "stdout",
          "output_type": "stream",
          "text": [
            "Classes found: ['Abuse', 'Arrest', 'Arson', 'Assault', 'Burglary', 'Explosion', 'Fighting', 'NormalVideos', 'RoadAccidents', 'Robbery', 'Shooting', 'Shoplifting', 'Stealing', 'Vandalism']\n",
            "Found 19076 frames in Abuse\n",
            "Found 26397 frames in Arrest\n",
            "Found 24421 frames in Arson\n",
            "Found 10360 frames in Assault\n",
            "Found 39504 frames in Burglary\n",
            "Found 18753 frames in Explosion\n",
            "Found 24684 frames in Fighting\n",
            "Found 947768 frames in NormalVideos\n",
            "Found 23486 frames in RoadAccidents\n",
            "Found 41493 frames in Robbery\n",
            "Found 7140 frames in Shooting\n",
            "Found 24835 frames in Shoplifting\n",
            "Found 44802 frames in Stealing\n",
            "Found 13626 frames in Vandalism\n",
            "Total sequences created: 79141\n",
            "Classes found: ['Abuse', 'Arrest', 'Arson', 'Assault', 'Burglary', 'Explosion', 'Fighting', 'NormalVideos', 'RoadAccidents', 'Robbery', 'Shooting', 'Shoplifting', 'Stealing', 'Vandalism']\n",
            "Found 297 frames in Abuse\n",
            "Found 3365 frames in Arrest\n",
            "Found 2793 frames in Arson\n",
            "Found 2657 frames in Assault\n",
            "Found 7657 frames in Burglary\n",
            "Found 6510 frames in Explosion\n",
            "Found 1231 frames in Fighting\n",
            "Found 64952 frames in NormalVideos\n",
            "Found 2663 frames in RoadAccidents\n",
            "Found 835 frames in Robbery\n",
            "Found 7630 frames in Shooting\n",
            "Found 7623 frames in Shoplifting\n",
            "Found 1984 frames in Stealing\n",
            "Found 1111 frames in Vandalism\n",
            "Total sequences created: 6950\n",
            "Train dataset length: 79141\n",
            "Test dataset length: 6950\n"
          ]
        }
      ],
      "source": [
        "import os\n",
        "import torch\n",
        "from glob import glob\n",
        "from torch.utils.data import Dataset\n",
        "from torchvision import transforms\n",
        "from PIL import Image\n",
        "\n",
        "# Define a custom dataset to handle the UCF Crime frames and group them into sequences\n",
        "class FrameSequenceDataset(Dataset):\n",
        "    def __init__(self, root_dir, frame_count=16, transform=None):\n",
        "        self.root_dir = root_dir\n",
        "        self.frame_count = frame_count\n",
        "        self.transform = transform\n",
        "        self.classes = os.listdir(root_dir)\n",
        "        self.frame_sequences = []\n",
        "        self.labels = []\n",
        "\n",
        "        # Debug: Print the classes found\n",
        "        print(\"Classes found:\", self.classes)\n",
        "\n",
        "        # Iterate over each class and gather frame sequences\n",
        "        for class_idx, class_name in enumerate(self.classes):\n",
        "            class_path = os.path.join(root_dir, class_name)\n",
        "            frames = sorted(glob(os.path.join(class_path, \"*.png\")))\n",
        "            print(f\"Found {len(frames)} frames in {class_name}\")  # Debug: Check frames in each class\n",
        "\n",
        "            # Group frames into sequences of self.frame_count\n",
        "            for i in range(0, len(frames), self.frame_count):\n",
        "                frame_seq = frames[i:i + self.frame_count]\n",
        "                if len(frame_seq) == self.frame_count:\n",
        "                    self.frame_sequences.append(frame_seq)\n",
        "                    self.labels.append(class_idx)\n",
        "\n",
        "        # Debug: Print the number of sequences created\n",
        "        print(\"Total sequences created:\", len(self.frame_sequences))\n",
        "\n",
        "    def __len__(self):\n",
        "        return len(self.frame_sequences)\n",
        "\n",
        "    def __getitem__(self, idx):\n",
        "        frame_seq_paths = self.frame_sequences[idx]\n",
        "        label = self.labels[idx]\n",
        "\n",
        "        # Load and preprocess frames\n",
        "        frames = [Image.open(frame_path).convert(\"RGB\") for frame_path in frame_seq_paths]\n",
        "        if self.transform:\n",
        "            frames = [self.transform(frame) for frame in frames]\n",
        "\n",
        "        # Stack the frames (TimeSformer expects them as a tensor)\n",
        "        frames = torch.stack(frames)\n",
        "\n",
        "        return frames, torch.tensor(label)\n",
        "\n",
        "# Image transforms (resize to 224x224 for TimeSformer)\n",
        "transform = transforms.Compose([\n",
        "    transforms.Resize((64, 64)),\n",
        "    #transforms.RandomHoizontalFlip(),\n",
        "    transforms.ColorJitter(),\n",
        "    transforms.ToTensor(),\n",
        "])\n",
        "\n",
        "# Load the train dataset\n",
        "train_dataset = FrameSequenceDataset(root_dir=\"C:\\\\Users\\\\user\\\\Desktop\\\\raushan\\\\Train\", frame_count=16, transform=transform)\n",
        "#val_dataset = FrameSequenceDataset(root_dir=\"C:\\\\Users\\\\user\\\\Desktop\\\\raushan\\\\val\", frame_count=16, transform=transform)  # Remove if not needed\n",
        "test_dataset = FrameSequenceDataset(root_dir=\"C:\\\\Users\\\\user\\\\Desktop\\\\raushan\\\\Test\", frame_count=16, transform=transform)\n",
        "\n",
        "# DataLoader\n",
        "from torch.utils.data import DataLoader\n",
        "\n",
        "train_loader = DataLoader(train_dataset, batch_size=4, shuffle=True)\n",
        "#val_loader = DataLoader(val_dataset, batch_size=4, shuffle=False)  # Remove if not needed\n",
        "test_loader = DataLoader(test_dataset, batch_size=4, shuffle=False)\n",
        "\n",
        "# Check the lengths of the datasets\n",
        "print(\"Train dataset length:\", len(train_dataset))\n",
        "# print(\"Validation dataset length:\", len(val_dataset))  # Remove if not needed\n",
        "print(\"Test dataset length:\", len(test_dataset))\n"
      ]
    },
    {
      "cell_type": "code",
      "execution_count": 14,
      "metadata": {},
      "outputs": [
        {
          "data": {
            "text/plain": [
              "19786"
            ]
          },
          "execution_count": 14,
          "metadata": {},
          "output_type": "execute_result"
        }
      ],
      "source": [
        "len(train_loader)"
      ]
    },
    {
      "cell_type": "code",
      "execution_count": 3,
      "metadata": {},
      "outputs": [
        {
          "data": {
            "text/plain": [
              "True"
            ]
          },
          "execution_count": 3,
          "metadata": {},
          "output_type": "execute_result"
        }
      ],
      "source": [
        "import torch\n",
        "torch.cuda.is_available()"
      ]
    },
    {
      "cell_type": "code",
      "execution_count": null,
      "metadata": {},
      "outputs": [],
      "source": [
        "pip install transformers"
      ]
    },
    {
      "cell_type": "code",
      "execution_count": 4,
      "metadata": {},
      "outputs": [
        {
          "name": "stderr",
          "output_type": "stream",
          "text": [
            "c:\\Users\\user\\AppData\\Local\\Programs\\Python\\Python312\\Lib\\site-packages\\tqdm\\auto.py:21: TqdmWarning: IProgress not found. Please update jupyter and ipywidgets. See https://ipywidgets.readthedocs.io/en/stable/user_install.html\n",
            "  from .autonotebook import tqdm as notebook_tqdm\n",
            "Some weights of TimesformerForVideoClassification were not initialized from the model checkpoint at facebook/timesformer-base-finetuned-k400 and are newly initialized because the shapes did not match:\n",
            "- timesformer.embeddings.position_embeddings: found shape torch.Size([1, 197, 768]) in the checkpoint and torch.Size([1, 65, 768]) in the model instantiated\n",
            "- timesformer.embeddings.patch_embeddings.projection.weight: found shape torch.Size([768, 3, 16, 16]) in the checkpoint and torch.Size([768, 3, 8, 8]) in the model instantiated\n",
            "- classifier.weight: found shape torch.Size([400, 768]) in the checkpoint and torch.Size([14, 768]) in the model instantiated\n",
            "- classifier.bias: found shape torch.Size([400]) in the checkpoint and torch.Size([14]) in the model instantiated\n",
            "You should probably TRAIN this model on a down-stream task to be able to use it for predictions and inference.\n"
          ]
        }
      ],
      "source": [
        "from transformers import AutoConfig, AutoModelForVideoClassification\n",
        "\n",
        "config = AutoConfig.from_pretrained(\"facebook/timesformer-base-finetuned-k400\")\n",
        "config.image_size = 64\n",
        "config.num_labels = 14\n",
        "config.patch_size = 8\n",
        "\n",
        "model = AutoModelForVideoClassification.from_pretrained(\"facebook/timesformer-base-finetuned-k400\", config =config, ignore_mismatched_sizes=True)"
      ]
    },
    {
      "cell_type": "code",
      "execution_count": 5,
      "metadata": {
        "colab": {
          "base_uri": "https://localhost:8080/",
          "height": 307,
          "referenced_widgets": [
            "ab0e40a656df47c9a7eeb3b661c30a9e",
            "b1b317ee181c40c8a6747c42f7b7b93b",
            "b705ae74ea354e45980fd45fe04f2ce0",
            "543ded25c4b04a1bae801316b41e7b14",
            "1a99f2603c0241488694a0ba3a7f395b",
            "019243e7224f4e248b46135e2193a267",
            "8758105677f24949ad39c3aa650a165a",
            "44889dc130534b3dae0704d39094959c",
            "31d21d02b8ce43acb2968082191ec8ce",
            "ae1a06c80fab4bc29fa587c4c128718c",
            "a7fa1c194d4048a388e84c8c3342de29",
            "398196f92fe3458dbbd5c91a2aa563fc",
            "4a95b4b48428482584e5e93998ec294d",
            "e9bf0034dea1412aafafed56e81bf084",
            "99bcf45f49ea465280fd15430b317439",
            "8de70ed3a3ec4ef2b3ebf29112a990c9",
            "2212e87e4fa246bfb80fc3de5709a792",
            "80260a16422c4ff8962bb836552dac13",
            "5fbf44d3fb1e468986d7e1c2b64a3f7c",
            "a99f77b726cc4a4a9fd50a3e51960fa9",
            "08390d94f7984820a4f3081bab293101",
            "9e348447ac2d431aa4f20d65c7483a0c",
            "a70404df53a544b4a53fe4a9d0d36c48",
            "9e446983144145f38f3fe6a8696f7e74",
            "1f445d2cbe164eac9943b9169e05a066",
            "ffeac10b9ea34e66bc5b68302529eafc",
            "333ec5cd772843fe8fc041eca37e8d89",
            "22cf733bc0524ac4ab466e0089c03cea",
            "7839e369c8b5439d82a3ede210e93556",
            "b87464a1460d4ff4b21b428fbeaf7aae",
            "73d355f2b37b40e0a7e61dbccc3c436f",
            "d3322e17cba64302a6fd52c6ddd7b462",
            "c3d3b5b0473b4243a781da67a0e7bc32"
          ]
        },
        "id": "K4Kl667PpKls",
        "outputId": "70a8ffb1-f994-4064-adce-932641104e26"
      },
      "outputs": [],
      "source": [
        "# Load model directly\n",
        "from transformers import AutoImageProcessor, AutoModelForVideoClassification\n",
        "\n",
        "processor = AutoImageProcessor.from_pretrained(\"facebook/timesformer-base-finetuned-k400\")\n",
        "#model = AutoModelForVideoClassification.from_pretrained(\"facebook/timesformer-base-finetuned-k400\",\n",
        "                                                      # num_labels=len(train_dataset.classes), # This will correctly set the output to 14 classes\n",
        "                                                      # ignore_mismatched_sizes=True) # This will handle the size mismatch in the classifier layer."
      ]
    },
    {
      "cell_type": "code",
      "execution_count": 17,
      "metadata": {
        "id": "a5vpeZjcmhxC"
      },
      "outputs": [
        {
          "name": "stderr",
          "output_type": "stream",
          "text": [
            "c:\\Users\\user\\AppData\\Local\\Programs\\Python\\Python312\\Lib\\site-packages\\transformers\\optimization.py:591: FutureWarning: This implementation of AdamW is deprecated and will be removed in a future version. Use the PyTorch implementation torch.optim.AdamW instead, or set `no_deprecation_warning=True` to disable this warning\n",
            "  warnings.warn(\n"
          ]
        }
      ],
      "source": [
        "from transformers import AdamW\n",
        "import torch\n",
        "\n",
        "\n",
        "# Move model to GPU if available\n",
        "device = torch.device(\"cuda\" if torch.cuda.is_available() else \"cpu\")\n",
        "model.to(device)\n",
        "'''\n",
        "# Freeze the first few layers\n",
        "for param in model.parameters():\n",
        "    param.requires_grad = False\n",
        "\n",
        "# Unfreeze the final classification head for fine-tuning\n",
        "for param in model.classifier.parameters():\n",
        "    param.requires_grad = True\n",
        "\n",
        "optimizer = torch.optim.AdamW(filter(lambda p: p.requires_grad, model.parameters()), lr=5e-5)\n",
        "'''\n",
        "# Define optimizer and learning rate\n",
        "optimizer = AdamW(model.parameters(), lr=1e-4)\n"
      ]
    },
    {
      "cell_type": "code",
      "execution_count": 20,
      "metadata": {
        "colab": {
          "base_uri": "https://localhost:8080/",
          "height": 211
        },
        "id": "OgiZLOoyrULS",
        "outputId": "60b1750c-9fa6-4569-d3cf-6c961277865f"
      },
      "outputs": [
        {
          "name": "stderr",
          "output_type": "stream",
          "text": [
            "Epoch 1/10 - Training:   0%|          | 0/19786 [00:00<?, ?it/s]"
          ]
        },
        {
          "name": "stderr",
          "output_type": "stream",
          "text": [
            "Epoch 1/10 - Training: 100%|██████████| 19786/19786 [2:14:49<00:00,  2.45it/s]  \n"
          ]
        },
        {
          "name": "stdout",
          "output_type": "stream",
          "text": [
            "Epoch [1/10], Train Loss: 0.9368\n"
          ]
        },
        {
          "name": "stderr",
          "output_type": "stream",
          "text": [
            "Epoch 1/10 - Validation: 100%|██████████| 1738/1738 [04:38<00:00,  6.24it/s]\n"
          ]
        },
        {
          "name": "stdout",
          "output_type": "stream",
          "text": [
            "Epoch [1/10], Val Loss: 2.0922\n",
            "Best model saved at epoch 1 to C:\\Users\\user\\Desktop\\raushan\\best_model_epoch_1.pth\n"
          ]
        },
        {
          "name": "stderr",
          "output_type": "stream",
          "text": [
            "Epoch 2/10 - Training: 100%|██████████| 19786/19786 [2:04:37<00:00,  2.65it/s]  \n"
          ]
        },
        {
          "name": "stdout",
          "output_type": "stream",
          "text": [
            "Epoch [2/10], Train Loss: 0.6002\n"
          ]
        },
        {
          "name": "stderr",
          "output_type": "stream",
          "text": [
            "Epoch 2/10 - Validation: 100%|██████████| 1738/1738 [04:17<00:00,  6.74it/s]\n"
          ]
        },
        {
          "name": "stdout",
          "output_type": "stream",
          "text": [
            "Epoch [2/10], Val Loss: 2.2485\n"
          ]
        },
        {
          "name": "stderr",
          "output_type": "stream",
          "text": [
            "Epoch 3/10 - Training: 100%|██████████| 19786/19786 [2:04:54<00:00,  2.64it/s]  \n"
          ]
        },
        {
          "name": "stdout",
          "output_type": "stream",
          "text": [
            "Epoch [3/10], Train Loss: 0.3835\n"
          ]
        },
        {
          "name": "stderr",
          "output_type": "stream",
          "text": [
            "Epoch 3/10 - Validation: 100%|██████████| 1738/1738 [04:18<00:00,  6.73it/s]\n"
          ]
        },
        {
          "name": "stdout",
          "output_type": "stream",
          "text": [
            "Epoch [3/10], Val Loss: 2.4470\n"
          ]
        },
        {
          "name": "stderr",
          "output_type": "stream",
          "text": [
            "Epoch 4/10 - Training: 100%|██████████| 19786/19786 [2:03:33<00:00,  2.67it/s]  \n"
          ]
        },
        {
          "name": "stdout",
          "output_type": "stream",
          "text": [
            "Epoch [4/10], Train Loss: 0.2503\n"
          ]
        },
        {
          "name": "stderr",
          "output_type": "stream",
          "text": [
            "Epoch 4/10 - Validation: 100%|██████████| 1738/1738 [04:18<00:00,  6.72it/s]\n"
          ]
        },
        {
          "name": "stdout",
          "output_type": "stream",
          "text": [
            "Epoch [4/10], Val Loss: 2.6340\n"
          ]
        },
        {
          "name": "stderr",
          "output_type": "stream",
          "text": [
            "Epoch 5/10 - Training: 100%|██████████| 19786/19786 [2:03:38<00:00,  2.67it/s]  \n"
          ]
        },
        {
          "name": "stdout",
          "output_type": "stream",
          "text": [
            "Epoch [5/10], Train Loss: 0.1778\n"
          ]
        },
        {
          "name": "stderr",
          "output_type": "stream",
          "text": [
            "Epoch 5/10 - Validation: 100%|██████████| 1738/1738 [04:18<00:00,  6.71it/s]\n"
          ]
        },
        {
          "name": "stdout",
          "output_type": "stream",
          "text": [
            "Epoch [5/10], Val Loss: 3.0518\n"
          ]
        },
        {
          "name": "stderr",
          "output_type": "stream",
          "text": [
            "Epoch 6/10 - Training: 100%|██████████| 19786/19786 [2:02:32<00:00,  2.69it/s]  \n"
          ]
        },
        {
          "name": "stdout",
          "output_type": "stream",
          "text": [
            "Epoch [6/10], Train Loss: 0.1307\n"
          ]
        },
        {
          "name": "stderr",
          "output_type": "stream",
          "text": [
            "Epoch 6/10 - Validation: 100%|██████████| 1738/1738 [04:17<00:00,  6.75it/s]\n"
          ]
        },
        {
          "name": "stdout",
          "output_type": "stream",
          "text": [
            "Epoch [6/10], Val Loss: 2.8561\n"
          ]
        },
        {
          "name": "stderr",
          "output_type": "stream",
          "text": [
            "Epoch 7/10 - Training: 100%|██████████| 19786/19786 [2:01:52<00:00,  2.71it/s]  \n"
          ]
        },
        {
          "name": "stdout",
          "output_type": "stream",
          "text": [
            "Epoch [7/10], Train Loss: 0.1011\n"
          ]
        },
        {
          "name": "stderr",
          "output_type": "stream",
          "text": [
            "Epoch 7/10 - Validation: 100%|██████████| 1738/1738 [04:17<00:00,  6.75it/s]\n"
          ]
        },
        {
          "name": "stdout",
          "output_type": "stream",
          "text": [
            "Epoch [7/10], Val Loss: 2.9865\n"
          ]
        },
        {
          "name": "stderr",
          "output_type": "stream",
          "text": [
            "Epoch 8/10 - Training: 100%|██████████| 19786/19786 [2:02:44<00:00,  2.69it/s]  \n"
          ]
        },
        {
          "name": "stdout",
          "output_type": "stream",
          "text": [
            "Epoch [8/10], Train Loss: 0.0810\n"
          ]
        },
        {
          "name": "stderr",
          "output_type": "stream",
          "text": [
            "Epoch 8/10 - Validation: 100%|██████████| 1738/1738 [04:18<00:00,  6.72it/s]\n"
          ]
        },
        {
          "name": "stdout",
          "output_type": "stream",
          "text": [
            "Epoch [8/10], Val Loss: 3.3868\n"
          ]
        },
        {
          "name": "stderr",
          "output_type": "stream",
          "text": [
            "Epoch 9/10 - Training: 100%|██████████| 19786/19786 [2:02:57<00:00,  2.68it/s]  \n"
          ]
        },
        {
          "name": "stdout",
          "output_type": "stream",
          "text": [
            "Epoch [9/10], Train Loss: 0.0676\n"
          ]
        },
        {
          "name": "stderr",
          "output_type": "stream",
          "text": [
            "Epoch 9/10 - Validation: 100%|██████████| 1738/1738 [04:17<00:00,  6.76it/s]\n"
          ]
        },
        {
          "name": "stdout",
          "output_type": "stream",
          "text": [
            "Epoch [9/10], Val Loss: 3.7142\n"
          ]
        },
        {
          "name": "stderr",
          "output_type": "stream",
          "text": [
            "Epoch 10/10 - Training: 100%|██████████| 19786/19786 [2:01:57<00:00,  2.70it/s]  \n"
          ]
        },
        {
          "name": "stdout",
          "output_type": "stream",
          "text": [
            "Epoch [10/10], Train Loss: 0.0555\n"
          ]
        },
        {
          "name": "stderr",
          "output_type": "stream",
          "text": [
            "Epoch 10/10 - Validation: 100%|██████████| 1738/1738 [04:18<00:00,  6.72it/s]"
          ]
        },
        {
          "name": "stdout",
          "output_type": "stream",
          "text": [
            "Epoch [10/10], Val Loss: 3.6198\n",
            "Training complete!\n"
          ]
        },
        {
          "name": "stderr",
          "output_type": "stream",
          "text": [
            "\n"
          ]
        }
      ],
      "source": [
        "import torch\n",
        "from torch.utils.tensorboard import SummaryWriter\n",
        "from tqdm import tqdm\n",
        "import os\n",
        "\n",
        "# Initialize TensorBoard for visualizing the training and validation loss\n",
        "writer = SummaryWriter(log_dir=\"runs/experiment_1\")\n",
        "\n",
        "# Path where you want to save the model\n",
        "save_dir = \"C:\\\\Users\\\\user\\\\Desktop\\\\raushan\\\\\"  # Your desired path\n",
        "\n",
        "# Make sure the save directory exists\n",
        "os.makedirs(save_dir, exist_ok=True)\n",
        "\n",
        "# Training loop\n",
        "num_epochs = 10  # Increased number of epochs for better training\n",
        "best_val_loss = float(\"inf\")\n",
        "\n",
        "# Ensure model is on the right device (GPU or CPU)\n",
        "device = torch.device(\"cuda\" if torch.cuda.is_available() else \"cpu\")\n",
        "\n",
        "# Training and validation loop\n",
        "for epoch in range(num_epochs):\n",
        "    model.train()  # Set the model to training mode\n",
        "    running_loss = 0.0\n",
        "\n",
        "    for batch in tqdm(train_loader, desc=f\"Epoch {epoch+1}/{num_epochs} - Training\"):\n",
        "        frames, labels = batch\n",
        "        frames = frames.to(device)  # Move frames to GPU/CPU\n",
        "        labels = labels.to(device)  # Move labels to GPU/CPU\n",
        "\n",
        "        # Forward pass\n",
        "        outputs = model(frames, labels=labels)\n",
        "        loss = outputs.loss\n",
        "\n",
        "        # Backward pass\n",
        "        optimizer.zero_grad()\n",
        "        loss.backward()\n",
        "        optimizer.step()\n",
        "\n",
        "        running_loss += loss.item()\n",
        "\n",
        "    avg_train_loss = running_loss / len(train_loader)\n",
        "    print(f\"Epoch [{epoch+1}/{num_epochs}], Train Loss: {avg_train_loss:.4f}\")\n",
        "\n",
        "    # Log the training loss to TensorBoard\n",
        "    writer.add_scalar('Loss/train', avg_train_loss, epoch)\n",
        "\n",
        "    # Validation\n",
        "    model.eval()  # Set the model to evaluation mode\n",
        "    val_loss = 0.0\n",
        "    with torch.no_grad():\n",
        "        for batch in tqdm(test_loader, desc=f\"Epoch {epoch+1}/{num_epochs} - Validation\"):\n",
        "            frames, labels = batch\n",
        "            frames = frames.to(device)\n",
        "            labels = labels.to(device)\n",
        "\n",
        "            outputs = model(frames, labels=labels)\n",
        "            val_loss += outputs.loss.item()\n",
        "\n",
        "    avg_val_loss = val_loss / len(test_loader)\n",
        "    print(f\"Epoch [{epoch+1}/{num_epochs}], Val Loss: {avg_val_loss:.4f}\")\n",
        "\n",
        "    # Log the validation loss to TensorBoard\n",
        "    writer.add_scalar('Loss/validation', avg_val_loss, epoch)\n",
        "\n",
        "    # Save the best model based on validation loss\n",
        "    if avg_val_loss < best_val_loss:\n",
        "        best_val_loss = avg_val_loss\n",
        "        \n",
        "        # Save the model, optimizer, and epoch to a checkpoint\n",
        "        checkpoint = {\n",
        "            'epoch': epoch + 1,\n",
        "            'model_state_dict': model.state_dict(),\n",
        "            'optimizer_state_dict': optimizer.state_dict(),\n",
        "            'loss': avg_val_loss,\n",
        "        }\n",
        "        checkpoint_path = os.path.join(save_dir, f\"best_model_epoch_{epoch+1}.pth\")\n",
        "        torch.save(checkpoint, checkpoint_path)\n",
        "        print(f\"Best model saved at epoch {epoch+1} to {checkpoint_path}\")\n",
        "\n",
        "# Close the TensorBoard writer\n",
        "writer.close()\n",
        "\n",
        "print(\"Training complete!\")\n"
      ]
    },
    {
      "cell_type": "code",
      "execution_count": 46,
      "metadata": {},
      "outputs": [
        {
          "name": "stderr",
          "output_type": "stream",
          "text": [
            "Some weights of TimesformerForVideoClassification were not initialized from the model checkpoint at facebook/timesformer-base-finetuned-k400 and are newly initialized because the shapes did not match:\n",
            "- timesformer.embeddings.position_embeddings: found shape torch.Size([1, 197, 768]) in the checkpoint and torch.Size([1, 65, 768]) in the model instantiated\n",
            "- timesformer.embeddings.patch_embeddings.projection.weight: found shape torch.Size([768, 3, 16, 16]) in the checkpoint and torch.Size([768, 3, 8, 8]) in the model instantiated\n",
            "- classifier.weight: found shape torch.Size([400, 768]) in the checkpoint and torch.Size([14, 768]) in the model instantiated\n",
            "- classifier.bias: found shape torch.Size([400]) in the checkpoint and torch.Size([14]) in the model instantiated\n",
            "You should probably TRAIN this model on a down-stream task to be able to use it for predictions and inference.\n"
          ]
        },
        {
          "name": "stdout",
          "output_type": "stream",
          "text": [
            "Epoch 1/10 - Training:\n"
          ]
        },
        {
          "name": "stderr",
          "output_type": "stream",
          "text": [
            "Epoch 1/10 - Training: 100%|██████████| 6484/6484 [45:06<00:00,  2.40it/s, loss=0.188]  \n"
          ]
        },
        {
          "name": "stdout",
          "output_type": "stream",
          "text": [
            "Epoch [1/10], Train Loss: 1.0305\n",
            "Epoch 1/10 - Validation:\n"
          ]
        },
        {
          "name": "stderr",
          "output_type": "stream",
          "text": [
            "Epoch 1/10 - Validation: 100%|██████████| 1621/1621 [04:03<00:00,  6.67it/s, loss=0.0539]\n"
          ]
        },
        {
          "name": "stdout",
          "output_type": "stream",
          "text": [
            "Epoch [1/10], Val Loss: 0.8887\n",
            "Best model saved at epoch 1 to C://Users//user//Desktop//raushan/best_model_epoch_1.pth\n",
            "Epoch 2/10 - Training:\n"
          ]
        },
        {
          "name": "stderr",
          "output_type": "stream",
          "text": [
            "Epoch 2/10 - Training: 100%|██████████| 6484/6484 [38:48<00:00,  2.78it/s, loss=0.0629] \n"
          ]
        },
        {
          "name": "stdout",
          "output_type": "stream",
          "text": [
            "Epoch [2/10], Train Loss: 0.8076\n",
            "Epoch 2/10 - Validation:\n"
          ]
        },
        {
          "name": "stderr",
          "output_type": "stream",
          "text": [
            "Epoch 2/10 - Validation: 100%|██████████| 1621/1621 [03:43<00:00,  7.24it/s, loss=0.0106] \n"
          ]
        },
        {
          "name": "stdout",
          "output_type": "stream",
          "text": [
            "Epoch [2/10], Val Loss: 0.7775\n",
            "Best model saved at epoch 2 to C://Users//user//Desktop//raushan/best_model_epoch_2.pth\n",
            "Epoch 3/10 - Training:\n"
          ]
        },
        {
          "name": "stderr",
          "output_type": "stream",
          "text": [
            "Epoch 3/10 - Training: 100%|██████████| 6484/6484 [38:15<00:00,  2.82it/s, loss=0.0982]  \n"
          ]
        },
        {
          "name": "stdout",
          "output_type": "stream",
          "text": [
            "Epoch [3/10], Train Loss: 0.6695\n",
            "Epoch 3/10 - Validation:\n"
          ]
        },
        {
          "name": "stderr",
          "output_type": "stream",
          "text": [
            "Epoch 3/10 - Validation: 100%|██████████| 1621/1621 [03:59<00:00,  6.78it/s, loss=0.0045] \n"
          ]
        },
        {
          "name": "stdout",
          "output_type": "stream",
          "text": [
            "Epoch [3/10], Val Loss: 0.6344\n",
            "Best model saved at epoch 3 to C://Users//user//Desktop//raushan/best_model_epoch_3.pth\n",
            "Epoch 4/10 - Training:\n"
          ]
        },
        {
          "name": "stderr",
          "output_type": "stream",
          "text": [
            "Epoch 4/10 - Training: 100%|██████████| 6484/6484 [38:51<00:00,  2.78it/s, loss=0.647]   \n"
          ]
        },
        {
          "name": "stdout",
          "output_type": "stream",
          "text": [
            "Epoch [4/10], Train Loss: 0.5498\n",
            "Epoch 4/10 - Validation:\n"
          ]
        },
        {
          "name": "stderr",
          "output_type": "stream",
          "text": [
            "Epoch 4/10 - Validation: 100%|██████████| 1621/1621 [04:02<00:00,  6.69it/s, loss=0.00689]\n"
          ]
        },
        {
          "name": "stdout",
          "output_type": "stream",
          "text": [
            "Epoch [4/10], Val Loss: 0.5270\n",
            "Best model saved at epoch 4 to C://Users//user//Desktop//raushan/best_model_epoch_4.pth\n",
            "Epoch 5/10 - Training:\n"
          ]
        },
        {
          "name": "stderr",
          "output_type": "stream",
          "text": [
            "Epoch 5/10 - Training: 100%|██████████| 6484/6484 [39:21<00:00,  2.75it/s, loss=2.25]    \n"
          ]
        },
        {
          "name": "stdout",
          "output_type": "stream",
          "text": [
            "Epoch [5/10], Train Loss: 0.4455\n",
            "Epoch 5/10 - Validation:\n"
          ]
        },
        {
          "name": "stderr",
          "output_type": "stream",
          "text": [
            "Epoch 5/10 - Validation: 100%|██████████| 1621/1621 [04:00<00:00,  6.73it/s, loss=0.000576]\n"
          ]
        },
        {
          "name": "stdout",
          "output_type": "stream",
          "text": [
            "Epoch [5/10], Val Loss: 0.4327\n",
            "Best model saved at epoch 5 to C://Users//user//Desktop//raushan/best_model_epoch_5.pth\n",
            "Epoch 6/10 - Training:\n"
          ]
        },
        {
          "name": "stderr",
          "output_type": "stream",
          "text": [
            "Epoch 6/10 - Training: 100%|██████████| 6484/6484 [38:51<00:00,  2.78it/s, loss=0.126]   \n"
          ]
        },
        {
          "name": "stdout",
          "output_type": "stream",
          "text": [
            "Epoch [6/10], Train Loss: 0.3660\n",
            "Epoch 6/10 - Validation:\n"
          ]
        },
        {
          "name": "stderr",
          "output_type": "stream",
          "text": [
            "Epoch 6/10 - Validation: 100%|██████████| 1621/1621 [03:44<00:00,  7.23it/s, loss=0.00259] \n"
          ]
        },
        {
          "name": "stdout",
          "output_type": "stream",
          "text": [
            "Epoch [6/10], Val Loss: 0.3715\n",
            "Best model saved at epoch 6 to C://Users//user//Desktop//raushan/best_model_epoch_6.pth\n",
            "Epoch 7/10 - Training:\n"
          ]
        },
        {
          "name": "stderr",
          "output_type": "stream",
          "text": [
            "Epoch 7/10 - Training: 100%|██████████| 6484/6484 [39:43<00:00,  2.72it/s, loss=1.61]      \n"
          ]
        },
        {
          "name": "stdout",
          "output_type": "stream",
          "text": [
            "Epoch [7/10], Train Loss: 0.3013\n",
            "Epoch 7/10 - Validation:\n"
          ]
        },
        {
          "name": "stderr",
          "output_type": "stream",
          "text": [
            "Epoch 7/10 - Validation: 100%|██████████| 1621/1621 [04:04<00:00,  6.64it/s, loss=0.00055] \n"
          ]
        },
        {
          "name": "stdout",
          "output_type": "stream",
          "text": [
            "Epoch [7/10], Val Loss: 0.3070\n",
            "Best model saved at epoch 7 to C://Users//user//Desktop//raushan/best_model_epoch_7.pth\n",
            "Epoch 8/10 - Training:\n"
          ]
        },
        {
          "name": "stderr",
          "output_type": "stream",
          "text": [
            "Epoch 8/10 - Training: 100%|██████████| 6484/6484 [39:11<00:00,  2.76it/s, loss=0.0172]  \n"
          ]
        },
        {
          "name": "stdout",
          "output_type": "stream",
          "text": [
            "Epoch [8/10], Train Loss: 0.2432\n",
            "Epoch 8/10 - Validation:\n"
          ]
        },
        {
          "name": "stderr",
          "output_type": "stream",
          "text": [
            "Epoch 8/10 - Validation: 100%|██████████| 1621/1621 [03:46<00:00,  7.17it/s, loss=0.00721] \n"
          ]
        },
        {
          "name": "stdout",
          "output_type": "stream",
          "text": [
            "Epoch [8/10], Val Loss: 0.3761\n",
            "Epoch 9/10 - Training:\n"
          ]
        },
        {
          "name": "stderr",
          "output_type": "stream",
          "text": [
            "Epoch 9/10 - Training: 100%|██████████| 6484/6484 [38:37<00:00,  2.80it/s, loss=0.0711]  \n"
          ]
        },
        {
          "name": "stdout",
          "output_type": "stream",
          "text": [
            "Epoch [9/10], Train Loss: 0.2036\n",
            "Epoch 9/10 - Validation:\n"
          ]
        },
        {
          "name": "stderr",
          "output_type": "stream",
          "text": [
            "Epoch 9/10 - Validation: 100%|██████████| 1621/1621 [03:56<00:00,  6.86it/s, loss=0.0248]  \n"
          ]
        },
        {
          "name": "stdout",
          "output_type": "stream",
          "text": [
            "Epoch [9/10], Val Loss: 0.2603\n",
            "Best model saved at epoch 9 to C://Users//user//Desktop//raushan/best_model_epoch_9.pth\n",
            "Epoch 10/10 - Training:\n"
          ]
        },
        {
          "name": "stderr",
          "output_type": "stream",
          "text": [
            "Epoch 10/10 - Training: 100%|██████████| 6484/6484 [38:39<00:00,  2.80it/s, loss=0.444]   \n"
          ]
        },
        {
          "name": "stdout",
          "output_type": "stream",
          "text": [
            "Epoch [10/10], Train Loss: 0.1690\n",
            "Epoch 10/10 - Validation:\n"
          ]
        },
        {
          "name": "stderr",
          "output_type": "stream",
          "text": [
            "Epoch 10/10 - Validation: 100%|██████████| 1621/1621 [03:46<00:00,  7.16it/s, loss=0.000974]\n"
          ]
        },
        {
          "name": "stdout",
          "output_type": "stream",
          "text": [
            "Epoch [10/10], Val Loss: 0.2580\n",
            "Best model saved at epoch 10 to C://Users//user//Desktop//raushan/best_model_epoch_10.pth\n",
            "Training complete!\n"
          ]
        }
      ],
      "source": [
        "import torch\n",
        "import torch.nn as nn\n",
        "import torch.optim as optim\n",
        "from transformers import AutoModelForVideoClassification, AutoConfig\n",
        "from torch.utils.data import DataLoader, random_split\n",
        "from tqdm import tqdm\n",
        "import os\n",
        "\n",
        "# Check device (GPU/CPU)\n",
        "device = torch.device(\"cuda\" if torch.cuda.is_available() else \"cpu\")\n",
        "\n",
        "# Load model configuration with 14 output classes\n",
        "#config = AutoConfig.from_pretrained(\"facebook/timesformer-base-finetuned-k400\", num_labels=14)\n",
        "\n",
        "# Load pre-trained model, handling shape mismatches\n",
        "model = AutoModelForVideoClassification.from_pretrained(\n",
        "    \"facebook/timesformer-base-finetuned-k400\",\n",
        "    config=config,\n",
        "    ignore_mismatched_sizes=True\n",
        ")\n",
        "\n",
        "# Replace classifier with a new one for 14 classes\n",
        "model.classifier = nn.Linear(model.config.hidden_size, 14)\n",
        "model.to(device)\n",
        "\n",
        "# Define loss and optimizer\n",
        "criterion = nn.CrossEntropyLoss()\n",
        "optimizer = optim.AdamW(model.parameters(), lr=1e-4)\n",
        "\n",
        "# Define dataset (replace with actual dataset loading)\n",
        "# Example: train_dataset should be a PyTorch dataset of video frames and labels\n",
        "# train_dataset = YourCustomDataset()\n",
        "total_samples = len(train_dataset)\n",
        "val_split = int(0.2 * total_samples)  # 20% validation\n",
        "train_split = total_samples - val_split\n",
        "\n",
        "train_dataset, val_dataset = random_split(train_dataset, [train_split, val_split])\n",
        "\n",
        "# Create DataLoaders\n",
        "train_loader = DataLoader(train_dataset, batch_size=4, shuffle=True)\n",
        "val_loader = DataLoader(val_dataset, batch_size=4, shuffle=False)\n",
        "\n",
        "# Output directory for saving models\n",
        "save_dir = \"C://Users//user//Desktop//raushan/\"\n",
        "os.makedirs(save_dir, exist_ok=True)\n",
        "\n",
        "# Training loop\n",
        "num_epochs = 10\n",
        "best_val_loss = float(\"inf\")\n",
        "\n",
        "for epoch in range(1, num_epochs + 1):\n",
        "    model.train()\n",
        "    total_loss = 0\n",
        "\n",
        "    print(f\"Epoch {epoch}/{num_epochs} - Training:\")\n",
        "    train_bar = tqdm(train_loader, total=len(train_loader), desc=f\"Epoch {epoch}/{num_epochs} - Training\")\n",
        "    \n",
        "    for frames, labels in train_bar:\n",
        "        frames, labels = frames.to(device), labels.to(device)\n",
        "\n",
        "        optimizer.zero_grad()\n",
        "        outputs = model(frames).logits\n",
        "        loss = criterion(outputs, labels)\n",
        "        loss.backward()\n",
        "        optimizer.step()\n",
        "\n",
        "        total_loss += loss.item()\n",
        "        train_bar.set_postfix(loss=loss.item())\n",
        "\n",
        "    avg_train_loss = total_loss / len(train_loader)\n",
        "    print(f\"Epoch [{epoch}/{num_epochs}], Train Loss: {avg_train_loss:.4f}\")\n",
        "\n",
        "    # Validation phase\n",
        "    model.eval()\n",
        "    val_loss = 0\n",
        "\n",
        "    print(f\"Epoch {epoch}/{num_epochs} - Validation:\")\n",
        "    val_bar = tqdm(val_loader, total=len(val_loader), desc=f\"Epoch {epoch}/{num_epochs} - Validation\")\n",
        "    \n",
        "    with torch.no_grad():\n",
        "        for frames, labels in val_bar:\n",
        "            frames, labels = frames.to(device), labels.to(device)\n",
        "            outputs = model(frames).logits\n",
        "            loss = criterion(outputs, labels)\n",
        "            val_loss += loss.item()\n",
        "            val_bar.set_postfix(loss=loss.item())\n",
        "\n",
        "    avg_val_loss = val_loss / len(val_loader)\n",
        "    print(f\"Epoch [{epoch}/{num_epochs}], Val Loss: {avg_val_loss:.4f}\")\n",
        "\n",
        "    # Save best model\n",
        "    if avg_val_loss < best_val_loss:\n",
        "        best_val_loss = avg_val_loss\n",
        "        best_model_path = os.path.join(save_dir, f\"best_model_epoch_{epoch}.pth\")\n",
        "        torch.save(model.state_dict(), best_model_path)\n",
        "        print(f\"Best model saved at epoch {epoch} to {best_model_path}\")\n",
        "\n",
        "    # Save last epoch model\n",
        "    last_model_path = os.path.join(save_dir, \"last_epoch_model.pth\")\n",
        "    torch.save(model.state_dict(), last_model_path)\n",
        "\n",
        "print(\"Training complete!\")\n"
      ]
    },
    {
      "cell_type": "code",
      "execution_count": 18,
      "metadata": {},
      "outputs": [],
      "source": [
        "import torch\n",
        "torch.cuda.empty_cache()  # Clears unused memory\n"
      ]
    },
    {
      "cell_type": "code",
      "execution_count": 20,
      "metadata": {},
      "outputs": [
        {
          "name": "stderr",
          "output_type": "stream",
          "text": [
            "Some weights of TimesformerForVideoClassification were not initialized from the model checkpoint at facebook/timesformer-base-finetuned-k400 and are newly initialized because the shapes did not match:\n",
            "- timesformer.embeddings.position_embeddings: found shape torch.Size([1, 197, 768]) in the checkpoint and torch.Size([1, 65, 768]) in the model instantiated\n",
            "- timesformer.embeddings.patch_embeddings.projection.weight: found shape torch.Size([768, 3, 16, 16]) in the checkpoint and torch.Size([768, 3, 8, 8]) in the model instantiated\n",
            "- classifier.weight: found shape torch.Size([400, 768]) in the checkpoint and torch.Size([14, 768]) in the model instantiated\n",
            "- classifier.bias: found shape torch.Size([400]) in the checkpoint and torch.Size([14]) in the model instantiated\n",
            "You should probably TRAIN this model on a down-stream task to be able to use it for predictions and inference.\n"
          ]
        },
        {
          "name": "stdout",
          "output_type": "stream",
          "text": [
            "Epoch 15/20 - Training:\n"
          ]
        },
        {
          "name": "stderr",
          "output_type": "stream",
          "text": [
            "Epoch 15/20 - Training: 100%|██████████| 5187/5187 [33:04<00:00,  2.61it/s, loss=0.000763]\n"
          ]
        },
        {
          "name": "stdout",
          "output_type": "stream",
          "text": [
            "Epoch [15/20], Train Loss: 0.0719\n",
            "Epoch 15/20 - Validation:\n"
          ]
        },
        {
          "name": "stderr",
          "output_type": "stream",
          "text": [
            "Epoch 15/20 - Validation: 100%|██████████| 1297/1297 [03:21<00:00,  6.42it/s, loss=1.19e-5] \n"
          ]
        },
        {
          "name": "stdout",
          "output_type": "stream",
          "text": [
            "Epoch [15/20], Val Loss: 0.0742\n",
            "Best model saved at epoch 15 to C://Users//user//Desktop//raushan/best_model_epoch_15.pth\n",
            "Epoch 16/20 - Training:\n"
          ]
        },
        {
          "name": "stderr",
          "output_type": "stream",
          "text": [
            "Epoch 16/20 - Training: 100%|██████████| 5187/5187 [30:15<00:00,  2.86it/s, loss=0.000432]\n"
          ]
        },
        {
          "name": "stdout",
          "output_type": "stream",
          "text": [
            "Epoch [16/20], Train Loss: 0.0603\n",
            "Epoch 16/20 - Validation:\n"
          ]
        },
        {
          "name": "stderr",
          "output_type": "stream",
          "text": [
            "Epoch 16/20 - Validation: 100%|██████████| 1297/1297 [03:30<00:00,  6.16it/s, loss=1.01e-6] \n"
          ]
        },
        {
          "name": "stdout",
          "output_type": "stream",
          "text": [
            "Epoch [16/20], Val Loss: 0.1071\n",
            "Epoch 17/20 - Training:\n"
          ]
        },
        {
          "name": "stderr",
          "output_type": "stream",
          "text": [
            "Epoch 17/20 - Training: 100%|██████████| 5187/5187 [31:36<00:00,  2.73it/s, loss=2.1e-5]  \n"
          ]
        },
        {
          "name": "stdout",
          "output_type": "stream",
          "text": [
            "Epoch [17/20], Train Loss: 0.0564\n",
            "Epoch 17/20 - Validation:\n"
          ]
        },
        {
          "name": "stderr",
          "output_type": "stream",
          "text": [
            "Epoch 17/20 - Validation: 100%|██████████| 1297/1297 [03:09<00:00,  6.83it/s, loss=1.07e-5] \n"
          ]
        },
        {
          "name": "stdout",
          "output_type": "stream",
          "text": [
            "Epoch [17/20], Val Loss: 0.0646\n",
            "Best model saved at epoch 17 to C://Users//user//Desktop//raushan/best_model_epoch_17.pth\n",
            "Epoch 18/20 - Training:\n"
          ]
        },
        {
          "name": "stderr",
          "output_type": "stream",
          "text": [
            "Epoch 18/20 - Training: 100%|██████████| 5187/5187 [30:21<00:00,  2.85it/s, loss=0.0271]  \n"
          ]
        },
        {
          "name": "stdout",
          "output_type": "stream",
          "text": [
            "Epoch [18/20], Train Loss: 0.0508\n",
            "Epoch 18/20 - Validation:\n"
          ]
        },
        {
          "name": "stderr",
          "output_type": "stream",
          "text": [
            "Epoch 18/20 - Validation: 100%|██████████| 1297/1297 [03:02<00:00,  7.10it/s, loss=8.34e-7] \n"
          ]
        },
        {
          "name": "stdout",
          "output_type": "stream",
          "text": [
            "Epoch [18/20], Val Loss: 0.0895\n",
            "Epoch 19/20 - Training:\n"
          ]
        },
        {
          "name": "stderr",
          "output_type": "stream",
          "text": [
            "Epoch 19/20 - Training: 100%|██████████| 5187/5187 [30:16<00:00,  2.85it/s, loss=0.0181]  \n"
          ]
        },
        {
          "name": "stdout",
          "output_type": "stream",
          "text": [
            "Epoch [19/20], Train Loss: 0.0473\n",
            "Epoch 19/20 - Validation:\n"
          ]
        },
        {
          "name": "stderr",
          "output_type": "stream",
          "text": [
            "Epoch 19/20 - Validation: 100%|██████████| 1297/1297 [03:03<00:00,  7.08it/s, loss=1.73e-5] \n"
          ]
        },
        {
          "name": "stdout",
          "output_type": "stream",
          "text": [
            "Epoch [19/20], Val Loss: 0.0970\n",
            "Epoch 20/20 - Training:\n"
          ]
        },
        {
          "name": "stderr",
          "output_type": "stream",
          "text": [
            "Epoch 20/20 - Training: 100%|██████████| 5187/5187 [31:05<00:00,  2.78it/s, loss=2.06e-6]  \n"
          ]
        },
        {
          "name": "stdout",
          "output_type": "stream",
          "text": [
            "Epoch [20/20], Train Loss: 0.0421\n",
            "Epoch 20/20 - Validation:\n"
          ]
        },
        {
          "name": "stderr",
          "output_type": "stream",
          "text": [
            "Epoch 20/20 - Validation: 100%|██████████| 1297/1297 [03:18<00:00,  6.52it/s, loss=4.53e-6] \n"
          ]
        },
        {
          "name": "stdout",
          "output_type": "stream",
          "text": [
            "Epoch [20/20], Val Loss: 0.0830\n",
            "Training complete!\n"
          ]
        }
      ],
      "source": [
        "import torch\n",
        "import torch.nn as nn\n",
        "import torch.optim as optim\n",
        "from transformers import AutoModelForVideoClassification\n",
        "from torch.utils.data import DataLoader, random_split\n",
        "from tqdm import tqdm\n",
        "import os\n",
        "\n",
        "# Check device (GPU/CPU)\n",
        "device = torch.device(\"cuda\" if torch.cuda.is_available() else \"cpu\")\n",
        "\n",
        "# Path to the saved checkpoint (from epoch 10)\n",
        "checkpoint_path = \"C://Users//user//Desktop//raushan//best_model_epoch_13.pth\"\n",
        "\n",
        "# Load pre-trained model\n",
        "model = AutoModelForVideoClassification.from_pretrained(\n",
        "    \"facebook/timesformer-base-finetuned-k400\",\n",
        "    config=config,\n",
        "    ignore_mismatched_sizes=True\n",
        ")\n",
        "\n",
        "\n",
        "# Replace classifier with a new one for 14 classes (ensuring correct output shape)\n",
        "model.classifier = nn.Linear(model.config.hidden_size, 14)\n",
        "\n",
        "# Load the saved checkpoint\n",
        "model.load_state_dict(torch.load(checkpoint_path, map_location=device))\n",
        "\n",
        "# Move model to the appropriate device\n",
        "model.to(device)\n",
        "\n",
        "# Define loss and optimizer\n",
        "criterion = nn.CrossEntropyLoss()\n",
        "optimizer = optim.AdamW(model.parameters(), lr=1e-4)\n",
        "\n",
        "# Define dataset (ensure `train_dataset` is properly defined)\n",
        "total_samples = len(train_dataset)\n",
        "val_split = int(0.2 * total_samples)  # 20% validation\n",
        "train_split = total_samples - val_split\n",
        "\n",
        "train_dataset, val_dataset = random_split(train_dataset, [train_split, val_split])\n",
        "\n",
        "# Create DataLoaders\n",
        "train_loader = DataLoader(train_dataset, batch_size=4, shuffle=True)\n",
        "val_loader = DataLoader(val_dataset, batch_size=4, shuffle=False)\n",
        "\n",
        "# Output directory for saving models\n",
        "save_dir = \"C://Users//user//Desktop//raushan/\"\n",
        "os.makedirs(save_dir, exist_ok=True)\n",
        "\n",
        "# Resume training from epoch 11\n",
        "start_epoch = 15\n",
        "num_epochs = 20\n",
        "best_val_loss = float(\"inf\")\n",
        "\n",
        "for epoch in range(start_epoch, num_epochs + 1):\n",
        "    model.train()\n",
        "    total_loss = 0\n",
        "\n",
        "    print(f\"Epoch {epoch}/{num_epochs} - Training:\")\n",
        "    train_bar = tqdm(train_loader, total=len(train_loader), desc=f\"Epoch {epoch}/{num_epochs} - Training\")\n",
        "\n",
        "    for frames, labels in train_bar:\n",
        "        frames, labels = frames.to(device), labels.to(device)\n",
        "\n",
        "        optimizer.zero_grad()\n",
        "        outputs = model(frames).logits\n",
        "        loss = criterion(outputs, labels)\n",
        "        loss.backward()\n",
        "        optimizer.step()\n",
        "\n",
        "        total_loss += loss.item()\n",
        "        train_bar.set_postfix(loss=loss.item())\n",
        "\n",
        "    avg_train_loss = total_loss / len(train_loader)\n",
        "    print(f\"Epoch [{epoch}/{num_epochs}], Train Loss: {avg_train_loss:.4f}\")\n",
        "\n",
        "    # Validation phase\n",
        "    model.eval()\n",
        "    val_loss = 0\n",
        "\n",
        "    print(f\"Epoch {epoch}/{num_epochs} - Validation:\")\n",
        "    val_bar = tqdm(val_loader, total=len(val_loader), desc=f\"Epoch {epoch}/{num_epochs} - Validation\")\n",
        "\n",
        "    with torch.no_grad():\n",
        "        for frames, labels in val_bar:\n",
        "            frames, labels = frames.to(device), labels.to(device)\n",
        "            outputs = model(frames).logits\n",
        "            loss = criterion(outputs, labels)\n",
        "            val_loss += loss.item()\n",
        "            val_bar.set_postfix(loss=loss.item())\n",
        "\n",
        "    avg_val_loss = val_loss / len(val_loader)\n",
        "    print(f\"Epoch [{epoch}/{num_epochs}], Val Loss: {avg_val_loss:.4f}\")\n",
        "\n",
        "    # Save best model\n",
        "    if avg_val_loss < best_val_loss:\n",
        "        best_val_loss = avg_val_loss\n",
        "        best_model_path = os.path.join(save_dir, f\"best_model_epoch_{epoch}.pth\")\n",
        "        torch.save(model.state_dict(), best_model_path)\n",
        "        print(f\"Best model saved at epoch {epoch} to {best_model_path}\")\n",
        "\n",
        "    # Save last epoch model\n",
        "    last_model_path = os.path.join(save_dir, \"last_epoch_model.pth\")\n",
        "    torch.save(model.state_dict(), last_model_path)\n",
        "\n",
        "print(\"Training complete!\")\n"
      ]
    },
    {
      "cell_type": "code",
      "execution_count": 19,
      "metadata": {},
      "outputs": [],
      "source": [
        "torch.cuda.set_per_process_memory_fraction(0.9, device=0)  # Allocates 90% of GPU memory\n"
      ]
    },
    {
      "cell_type": "code",
      "execution_count": null,
      "metadata": {},
      "outputs": [
        {
          "name": "stderr",
          "output_type": "stream",
          "text": [
            "Some weights of TimesformerForVideoClassification were not initialized from the model checkpoint at facebook/timesformer-base-finetuned-k400 and are newly initialized because the shapes did not match:\n",
            "- timesformer.embeddings.position_embeddings: found shape torch.Size([1, 197, 768]) in the checkpoint and torch.Size([1, 65, 768]) in the model instantiated\n",
            "- timesformer.embeddings.patch_embeddings.projection.weight: found shape torch.Size([768, 3, 16, 16]) in the checkpoint and torch.Size([768, 3, 8, 8]) in the model instantiated\n",
            "- classifier.weight: found shape torch.Size([400, 768]) in the checkpoint and torch.Size([14, 768]) in the model instantiated\n",
            "- classifier.bias: found shape torch.Size([400]) in the checkpoint and torch.Size([14]) in the model instantiated\n",
            "You should probably TRAIN this model on a down-stream task to be able to use it for predictions and inference.\n"
          ]
        },
        {
          "name": "stdout",
          "output_type": "stream",
          "text": [
            "Class labels: ['Abuse', 'Arrest', 'Arson', 'Assault', 'Burglary', 'Explosion', 'Fighting', 'NormalVideos', 'RoadAccidents', 'Robbery', 'Shooting', 'Shoplifting', 'Stealing', 'Vandalism']\n",
            "\n",
            "Evaluating on Test Dataset...\n",
            "\n"
          ]
        },
        {
          "name": "stderr",
          "output_type": "stream",
          "text": [
            "Testing:  45%|████▍     | 782/1738 [02:47<02:24,  6.60it/s]"
          ]
        }
      ],
      "source": [
        "import torch\n",
        "import torch.nn as nn\n",
        "from sklearn.metrics import accuracy_score, precision_recall_fscore_support\n",
        "from transformers import AutoModelForVideoClassification, AutoConfig\n",
        "from tqdm import tqdm\n",
        "import os\n",
        "\n",
        "# Set device\n",
        "device = torch.device(\"cuda\" if torch.cuda.is_available() else \"cpu\")\n",
        "\n",
        "# Load model configuration\n",
        "config = AutoConfig.from_pretrained(\"facebook/timesformer-base-finetuned-k400\")\n",
        "config.image_size = 64  # Set same as training\n",
        "config.num_labels = 14  # Number of classes\n",
        "config.patch_size = 8\n",
        "\n",
        "# Load model\n",
        "model = AutoModelForVideoClassification.from_pretrained(\n",
        "    \"facebook/timesformer-base-finetuned-k400\",\n",
        "    config=config,\n",
        "    ignore_mismatched_sizes=True\n",
        ")\n",
        "\n",
        "# Load trained weights\n",
        "model_path = \"C:\\\\Users\\\\user\\\\Desktop\\\\raushan\\\\best_model_epoch_17.pth\"  # Change if using best model\n",
        "assert os.path.exists(model_path), f\"Model file not found: {model_path}\"\n",
        "model.load_state_dict(torch.load(model_path, map_location=device))\n",
        "model.to(device)\n",
        "model.eval()\n",
        "\n",
        "# Define label mapping from dataset\n",
        "class_labels = os.listdir(\"C:\\\\Users\\\\user\\\\Desktop\\\\raushan\\\\Train\")  # Same as used in training\n",
        "print(\"Class labels:\", class_labels)\n",
        "\n",
        "# Initialize lists to store predictions and ground truths\n",
        "all_preds = []\n",
        "all_labels = []\n",
        "\n",
        "# Evaluate on test dataset\n",
        "print(\"\\nEvaluating on Test Dataset...\\n\")\n",
        "with torch.no_grad():\n",
        "    for frames, labels in tqdm(test_loader, total=len(test_loader), desc=\"Testing\"):\n",
        "        frames, labels = frames.to(device), labels.to(device)\n",
        "\n",
        "        outputs = model(frames).logits  # Get model predictions\n",
        "        preds = torch.argmax(outputs, dim=1)  # Get predicted class indices\n",
        "\n",
        "        all_preds.extend(preds.cpu().numpy())\n",
        "        all_labels.extend(labels.cpu().numpy())\n",
        "\n",
        "# Convert indices to class names\n",
        "predicted_labels = [class_labels[i] for i in all_preds]\n",
        "actual_labels = [class_labels[i] for i in all_labels]\n",
        "\n",
        "# Compute accuracy, precision, recall, and F1-score\n",
        "accuracy = accuracy_score(all_labels, all_preds)\n",
        "precision, recall, f1, _ = precision_recall_fscore_support(all_labels, all_preds, average=\"weighted\")\n",
        "\n",
        "# Print results\n",
        "print(\"\\nTest Performance Metrics:\")\n",
        "print(f\"Accuracy:  {accuracy:.4f}\")\n",
        "print(f\"Precision: {precision:.4f}\")\n",
        "print(f\"Recall:    {recall:.4f}\")\n",
        "print(f\"F1 Score:  {f1:.4f}\")\n",
        "\n",
        "# Print a few predictions for reference\n",
        "print(\"\\nSample Predictions:\")\n",
        "for i in range(10):  # Print 10 sample predictions\n",
        "    if i < len(predicted_labels):\n",
        "        print(f\"Actual: {actual_labels[i]}  |  Predicted: {predicted_labels[i]}\")\n"
      ]
    },
    {
      "cell_type": "code",
      "execution_count": 8,
      "metadata": {},
      "outputs": [
        {
          "name": "stderr",
          "output_type": "stream",
          "text": [
            "<>:106: SyntaxWarning: invalid escape sequence '\\D'\n",
            "<>:106: SyntaxWarning: invalid escape sequence '\\D'\n",
            "C:\\Users\\user\\AppData\\Local\\Temp\\ipykernel_2800\\1228025479.py:106: SyntaxWarning: invalid escape sequence '\\D'\n",
            "  model_path = \"C:\\\\Users\\\\user\\Desktop\\\\raushan\\\\best_model_epoch_12.pth\"  # Change this path\n",
            "Some weights of TimesformerForVideoClassification were not initialized from the model checkpoint at facebook/timesformer-base-finetuned-k400 and are newly initialized because the shapes did not match:\n",
            "- timesformer.embeddings.position_embeddings: found shape torch.Size([1, 197, 768]) in the checkpoint and torch.Size([1, 65, 768]) in the model instantiated\n",
            "- timesformer.embeddings.patch_embeddings.projection.weight: found shape torch.Size([768, 3, 16, 16]) in the checkpoint and torch.Size([768, 3, 8, 8]) in the model instantiated\n",
            "- classifier.weight: found shape torch.Size([400, 768]) in the checkpoint and torch.Size([14, 768]) in the model instantiated\n",
            "- classifier.bias: found shape torch.Size([400]) in the checkpoint and torch.Size([14]) in the model instantiated\n",
            "You should probably TRAIN this model on a down-stream task to be able to use it for predictions and inference.\n"
          ]
        },
        {
          "name": "stdout",
          "output_type": "stream",
          "text": [
            "Predicted Class Index: 3\n",
            "Predicted Label: Assault\n"
          ]
        }
      ],
      "source": [
        "import torch\n",
        "import torch.nn as nn\n",
        "import torchvision.transforms as transforms\n",
        "import cv2\n",
        "import numpy as np\n",
        "from transformers import AutoModelForVideoClassification, AutoConfig\n",
        "\n",
        "# Set device (Use GPU if available)\n",
        "device = torch.device(\"cuda\" if torch.cuda.is_available() else \"cpu\")\n",
        "\n",
        "# Define class labels (Update this with your actual labels)\n",
        "CLASS_LABELS = {\n",
        "    0: \"Abuse\",\n",
        "    1: \"Arrest\",\n",
        "    2: \"Arson\",\n",
        "    3: \"Assault\",\n",
        "    4: \"Burglary\",\n",
        "    5: \"Explosion\",\n",
        "    6: \"Fighting\",\n",
        "    7: \"Normalvideos\",\n",
        "    8: \"RoadAccidents\",\n",
        "    9: \"Robbery\",\n",
        "    10: \"Shooting\",\n",
        "    11: \"Shoplifting\",\n",
        "    12: \"Stealing\",\n",
        "    13: \"Vandalism\"  # Example: Update these labels accordingly\n",
        "}\n",
        "\n",
        "# Load trained model function\n",
        "def load_trained_model(model_path):\n",
        "    # Load model config\n",
        "    config = AutoConfig.from_pretrained(\"facebook/timesformer-base-finetuned-k400\")\n",
        "    config.image_size = 64  # Ensure it matches training config\n",
        "    config.num_labels = 14\n",
        "    config.patch_size = 8\n",
        "\n",
        "    # Load model with modified config\n",
        "    model = AutoModelForVideoClassification.from_pretrained(\n",
        "        \"facebook/timesformer-base-finetuned-k400\",\n",
        "        config=config,\n",
        "        ignore_mismatched_sizes=True\n",
        "    )\n",
        "    \n",
        "    # Replace classifier with 14-class output\n",
        "    model.classifier = torch.nn.Linear(model.config.hidden_size, 14)\n",
        "    \n",
        "    # Load trained weights\n",
        "    model.load_state_dict(torch.load(model_path, map_location=device))\n",
        "    model.to(device)\n",
        "    model.eval()\n",
        "    return model\n",
        "# Function to extract frames from a video\n",
        "def extract_frames(video_path, num_frames=8, frame_size=(224, 224)):\n",
        "    cap = cv2.VideoCapture(video_path)\n",
        "    total_frames = int(cap.get(cv2.CAP_PROP_FRAME_COUNT))\n",
        "    \n",
        "    if total_frames == 0:\n",
        "        print(\"Error: Cannot read video.\")\n",
        "        return None\n",
        "\n",
        "    frame_indices = np.linspace(0, total_frames - 1, num_frames, dtype=int)\n",
        "    frames = []\n",
        "\n",
        "    transform = transforms.Compose([\n",
        "        transforms.ToPILImage(),\n",
        "        transforms.Resize(frame_size),\n",
        "        transforms.ToTensor(),\n",
        "        transforms.Normalize(mean=[0.45, 0.45, 0.45], std=[0.225, 0.225, 0.225])\n",
        "    ])\n",
        "\n",
        "    for i in frame_indices:\n",
        "        cap.set(cv2.CAP_PROP_POS_FRAMES, i)\n",
        "        ret, frame = cap.read()\n",
        "        if not ret:\n",
        "            continue\n",
        "        frame = cv2.cvtColor(frame, cv2.COLOR_BGR2RGB)\n",
        "        frame = transform(frame)\n",
        "        frames.append(frame)\n",
        "\n",
        "    cap.release()\n",
        "\n",
        "    if len(frames) < num_frames:\n",
        "        print(\"Error: Not enough frames extracted.\")\n",
        "        return None  # Return None if not enough frames are available\n",
        "\n",
        "    return torch.stack(frames)  # Shape: (num_frames, 3, 224, 224)\n",
        "\n",
        "# Function to predict class from a video\n",
        "def predict_on_video(video_path, model):\n",
        "    frames = extract_frames(video_path)\n",
        "    if frames is None:\n",
        "        return None\n",
        "\n",
        "    frames = frames.unsqueeze(0).to(device)  # Add batch dimension: (1, num_frames, 3, 224, 224)\n",
        "\n",
        "    with torch.no_grad():\n",
        "        outputs = model(frames).logits  # Get model predictions\n",
        "        predicted_class_idx = torch.argmax(outputs, dim=1).item()  # Get predicted class index\n",
        "\n",
        "    # Get class label from dictionary\n",
        "    predicted_label = CLASS_LABELS.get(predicted_class_idx, \"Unknown\")\n",
        "\n",
        "    return predicted_class_idx, predicted_label\n",
        "\n",
        "# Load trained model\n",
        "model_path = \"C:\\\\Users\\\\user\\Desktop\\\\raushan\\\\best_model_epoch_12.pth\"  # Change this path\n",
        "model = load_trained_model(model_path)\n",
        "\n",
        "# Test on a video\n",
        "video_path = \"C:\\\\Users\\\\user\\\\Desktop\\\\raushan\\\\mixkit-strong-female-mixed-martial-arts-fighter-40991-hd-ready.mp4\"  # Change this path\n",
        "pred_class_idx, predicted_label = predict_on_video(video_path, model)\n",
        "\n",
        "if predicted_label is not None:\n",
        "    print(f\"Predicted Class Index: {pred_class_idx}\")\n",
        "    print(f\"Predicted Label: {predicted_label}\")\n",
        "else:\n",
        "    print(\"Prediction failed.\")\n"
      ]
    },
    {
      "cell_type": "code",
      "execution_count": 11,
      "metadata": {},
      "outputs": [
        {
          "name": "stdout",
          "output_type": "stream",
          "text": [
            "Model loaded successfully!\n"
          ]
        },
        {
          "ename": "OutOfMemoryError",
          "evalue": "CUDA out of memory. Tried to allocate 120.88 GiB. GPU 0 has a total capacity of 47.99 GiB of which 40.60 GiB is free. Of the allocated memory 5.64 GiB is allocated by PyTorch, and 136.37 MiB is reserved by PyTorch but unallocated. If reserved but unallocated memory is large try setting PYTORCH_CUDA_ALLOC_CONF=expandable_segments:True to avoid fragmentation.  See documentation for Memory Management  (https://pytorch.org/docs/stable/notes/cuda.html#environment-variables)",
          "output_type": "error",
          "traceback": [
            "\u001b[1;31m---------------------------------------------------------------------------\u001b[0m",
            "\u001b[1;31mOutOfMemoryError\u001b[0m                          Traceback (most recent call last)",
            "Cell \u001b[1;32mIn[11], line 53\u001b[0m\n\u001b[0;32m     51\u001b[0m model \u001b[38;5;241m=\u001b[39m load_trained_model(\u001b[38;5;124m\"\u001b[39m\u001b[38;5;124mC:\u001b[39m\u001b[38;5;130;01m\\\\\u001b[39;00m\u001b[38;5;124mUsers\u001b[39m\u001b[38;5;130;01m\\\\\u001b[39;00m\u001b[38;5;124muser\u001b[39m\u001b[38;5;130;01m\\\\\u001b[39;00m\u001b[38;5;124mDesktop\u001b[39m\u001b[38;5;130;01m\\\\\u001b[39;00m\u001b[38;5;124mraushan\u001b[39m\u001b[38;5;130;01m\\\\\u001b[39;00m\u001b[38;5;124mbest_model_epoch_10.pth\u001b[39m\u001b[38;5;124m\"\u001b[39m)  \u001b[38;5;66;03m# Load trained model\u001b[39;00m\n\u001b[0;32m     52\u001b[0m video_path \u001b[38;5;241m=\u001b[39m \u001b[38;5;124m\"\u001b[39m\u001b[38;5;124mC:\u001b[39m\u001b[38;5;130;01m\\\\\u001b[39;00m\u001b[38;5;124mUsers\u001b[39m\u001b[38;5;130;01m\\\\\u001b[39;00m\u001b[38;5;124muser\u001b[39m\u001b[38;5;130;01m\\\\\u001b[39;00m\u001b[38;5;124mDesktop\u001b[39m\u001b[38;5;130;01m\\\\\u001b[39;00m\u001b[38;5;124mraushan\u001b[39m\u001b[38;5;130;01m\\\\\u001b[39;00m\u001b[38;5;124mvideoplayback (online-video-cutter.com).mp4\u001b[39m\u001b[38;5;124m\"\u001b[39m  \u001b[38;5;66;03m# Change this to your video file path\u001b[39;00m\n\u001b[1;32m---> 53\u001b[0m predicted_class \u001b[38;5;241m=\u001b[39m \u001b[43mpredict_on_video\u001b[49m\u001b[43m(\u001b[49m\u001b[43mvideo_path\u001b[49m\u001b[43m,\u001b[49m\u001b[43m \u001b[49m\u001b[43mmodel\u001b[49m\u001b[43m)\u001b[49m\n\u001b[0;32m     54\u001b[0m \u001b[38;5;28mprint\u001b[39m(\u001b[38;5;124mf\u001b[39m\u001b[38;5;124m\"\u001b[39m\u001b[38;5;124mPredicted Class: \u001b[39m\u001b[38;5;132;01m{\u001b[39;00mpredicted_class\u001b[38;5;132;01m}\u001b[39;00m\u001b[38;5;124m\"\u001b[39m)\n",
            "Cell \u001b[1;32mIn[11], line 45\u001b[0m, in \u001b[0;36mpredict_on_video\u001b[1;34m(video_path, model)\u001b[0m\n\u001b[0;32m     42\u001b[0m frames \u001b[38;5;241m=\u001b[39m frames\u001b[38;5;241m.\u001b[39munsqueeze(\u001b[38;5;241m0\u001b[39m)\u001b[38;5;241m.\u001b[39mto(device)  \u001b[38;5;66;03m# Add batch dimension\u001b[39;00m\n\u001b[0;32m     44\u001b[0m \u001b[38;5;28;01mwith\u001b[39;00m torch\u001b[38;5;241m.\u001b[39mno_grad():\n\u001b[1;32m---> 45\u001b[0m     outputs \u001b[38;5;241m=\u001b[39m \u001b[43mmodel\u001b[49m\u001b[43m(\u001b[49m\u001b[43mframes\u001b[49m\u001b[43m)\u001b[49m\u001b[38;5;241m.\u001b[39mlogits  \u001b[38;5;66;03m# Get model output\u001b[39;00m\n\u001b[0;32m     46\u001b[0m     pred_class \u001b[38;5;241m=\u001b[39m torch\u001b[38;5;241m.\u001b[39margmax(outputs, dim\u001b[38;5;241m=\u001b[39m\u001b[38;5;241m1\u001b[39m)\u001b[38;5;241m.\u001b[39mitem()  \u001b[38;5;66;03m# Get predicted class\u001b[39;00m\n\u001b[0;32m     48\u001b[0m \u001b[38;5;28;01mreturn\u001b[39;00m pred_class\n",
            "File \u001b[1;32mc:\\Users\\user\\AppData\\Local\\Programs\\Python\\Python312\\Lib\\site-packages\\torch\\nn\\modules\\module.py:1739\u001b[0m, in \u001b[0;36mModule._wrapped_call_impl\u001b[1;34m(self, *args, **kwargs)\u001b[0m\n\u001b[0;32m   1737\u001b[0m     \u001b[38;5;28;01mreturn\u001b[39;00m \u001b[38;5;28mself\u001b[39m\u001b[38;5;241m.\u001b[39m_compiled_call_impl(\u001b[38;5;241m*\u001b[39margs, \u001b[38;5;241m*\u001b[39m\u001b[38;5;241m*\u001b[39mkwargs)  \u001b[38;5;66;03m# type: ignore[misc]\u001b[39;00m\n\u001b[0;32m   1738\u001b[0m \u001b[38;5;28;01melse\u001b[39;00m:\n\u001b[1;32m-> 1739\u001b[0m     \u001b[38;5;28;01mreturn\u001b[39;00m \u001b[38;5;28;43mself\u001b[39;49m\u001b[38;5;241;43m.\u001b[39;49m\u001b[43m_call_impl\u001b[49m\u001b[43m(\u001b[49m\u001b[38;5;241;43m*\u001b[39;49m\u001b[43margs\u001b[49m\u001b[43m,\u001b[49m\u001b[43m \u001b[49m\u001b[38;5;241;43m*\u001b[39;49m\u001b[38;5;241;43m*\u001b[39;49m\u001b[43mkwargs\u001b[49m\u001b[43m)\u001b[49m\n",
            "File \u001b[1;32mc:\\Users\\user\\AppData\\Local\\Programs\\Python\\Python312\\Lib\\site-packages\\torch\\nn\\modules\\module.py:1750\u001b[0m, in \u001b[0;36mModule._call_impl\u001b[1;34m(self, *args, **kwargs)\u001b[0m\n\u001b[0;32m   1745\u001b[0m \u001b[38;5;66;03m# If we don't have any hooks, we want to skip the rest of the logic in\u001b[39;00m\n\u001b[0;32m   1746\u001b[0m \u001b[38;5;66;03m# this function, and just call forward.\u001b[39;00m\n\u001b[0;32m   1747\u001b[0m \u001b[38;5;28;01mif\u001b[39;00m \u001b[38;5;129;01mnot\u001b[39;00m (\u001b[38;5;28mself\u001b[39m\u001b[38;5;241m.\u001b[39m_backward_hooks \u001b[38;5;129;01mor\u001b[39;00m \u001b[38;5;28mself\u001b[39m\u001b[38;5;241m.\u001b[39m_backward_pre_hooks \u001b[38;5;129;01mor\u001b[39;00m \u001b[38;5;28mself\u001b[39m\u001b[38;5;241m.\u001b[39m_forward_hooks \u001b[38;5;129;01mor\u001b[39;00m \u001b[38;5;28mself\u001b[39m\u001b[38;5;241m.\u001b[39m_forward_pre_hooks\n\u001b[0;32m   1748\u001b[0m         \u001b[38;5;129;01mor\u001b[39;00m _global_backward_pre_hooks \u001b[38;5;129;01mor\u001b[39;00m _global_backward_hooks\n\u001b[0;32m   1749\u001b[0m         \u001b[38;5;129;01mor\u001b[39;00m _global_forward_hooks \u001b[38;5;129;01mor\u001b[39;00m _global_forward_pre_hooks):\n\u001b[1;32m-> 1750\u001b[0m     \u001b[38;5;28;01mreturn\u001b[39;00m \u001b[43mforward_call\u001b[49m\u001b[43m(\u001b[49m\u001b[38;5;241;43m*\u001b[39;49m\u001b[43margs\u001b[49m\u001b[43m,\u001b[49m\u001b[43m \u001b[49m\u001b[38;5;241;43m*\u001b[39;49m\u001b[38;5;241;43m*\u001b[39;49m\u001b[43mkwargs\u001b[49m\u001b[43m)\u001b[49m\n\u001b[0;32m   1752\u001b[0m result \u001b[38;5;241m=\u001b[39m \u001b[38;5;28;01mNone\u001b[39;00m\n\u001b[0;32m   1753\u001b[0m called_always_called_hooks \u001b[38;5;241m=\u001b[39m \u001b[38;5;28mset\u001b[39m()\n",
            "File \u001b[1;32mc:\\Users\\user\\AppData\\Local\\Programs\\Python\\Python312\\Lib\\site-packages\\transformers\\models\\timesformer\\modeling_timesformer.py:770\u001b[0m, in \u001b[0;36mTimesformerForVideoClassification.forward\u001b[1;34m(self, pixel_values, labels, output_attentions, output_hidden_states, return_dict)\u001b[0m\n\u001b[0;32m    684\u001b[0m \u001b[38;5;250m\u001b[39m\u001b[38;5;124mr\u001b[39m\u001b[38;5;124;03m\"\"\"\u001b[39;00m\n\u001b[0;32m    685\u001b[0m \u001b[38;5;124;03mlabels (`torch.LongTensor` of shape `(batch_size,)`, *optional*):\u001b[39;00m\n\u001b[0;32m    686\u001b[0m \u001b[38;5;124;03m    Labels for computing the image classification/regression loss. Indices should be in `[0, ...,\u001b[39;00m\n\u001b[1;32m   (...)\u001b[0m\n\u001b[0;32m    766\u001b[0m \u001b[38;5;124;03meating spaghetti\u001b[39;00m\n\u001b[0;32m    767\u001b[0m \u001b[38;5;124;03m```\"\"\"\u001b[39;00m\n\u001b[0;32m    768\u001b[0m return_dict \u001b[38;5;241m=\u001b[39m return_dict \u001b[38;5;28;01mif\u001b[39;00m return_dict \u001b[38;5;129;01mis\u001b[39;00m \u001b[38;5;129;01mnot\u001b[39;00m \u001b[38;5;28;01mNone\u001b[39;00m \u001b[38;5;28;01melse\u001b[39;00m \u001b[38;5;28mself\u001b[39m\u001b[38;5;241m.\u001b[39mconfig\u001b[38;5;241m.\u001b[39muse_return_dict\n\u001b[1;32m--> 770\u001b[0m outputs \u001b[38;5;241m=\u001b[39m \u001b[38;5;28;43mself\u001b[39;49m\u001b[38;5;241;43m.\u001b[39;49m\u001b[43mtimesformer\u001b[49m\u001b[43m(\u001b[49m\n\u001b[0;32m    771\u001b[0m \u001b[43m    \u001b[49m\u001b[43mpixel_values\u001b[49m\u001b[43m,\u001b[49m\n\u001b[0;32m    772\u001b[0m \u001b[43m    \u001b[49m\u001b[43moutput_attentions\u001b[49m\u001b[38;5;241;43m=\u001b[39;49m\u001b[43moutput_attentions\u001b[49m\u001b[43m,\u001b[49m\n\u001b[0;32m    773\u001b[0m \u001b[43m    \u001b[49m\u001b[43moutput_hidden_states\u001b[49m\u001b[38;5;241;43m=\u001b[39;49m\u001b[43moutput_hidden_states\u001b[49m\u001b[43m,\u001b[49m\n\u001b[0;32m    774\u001b[0m \u001b[43m    \u001b[49m\u001b[43mreturn_dict\u001b[49m\u001b[38;5;241;43m=\u001b[39;49m\u001b[43mreturn_dict\u001b[49m\u001b[43m,\u001b[49m\n\u001b[0;32m    775\u001b[0m \u001b[43m\u001b[49m\u001b[43m)\u001b[49m\n\u001b[0;32m    777\u001b[0m sequence_output \u001b[38;5;241m=\u001b[39m outputs[\u001b[38;5;241m0\u001b[39m][:, \u001b[38;5;241m0\u001b[39m]\n\u001b[0;32m    779\u001b[0m logits \u001b[38;5;241m=\u001b[39m \u001b[38;5;28mself\u001b[39m\u001b[38;5;241m.\u001b[39mclassifier(sequence_output)\n",
            "File \u001b[1;32mc:\\Users\\user\\AppData\\Local\\Programs\\Python\\Python312\\Lib\\site-packages\\torch\\nn\\modules\\module.py:1739\u001b[0m, in \u001b[0;36mModule._wrapped_call_impl\u001b[1;34m(self, *args, **kwargs)\u001b[0m\n\u001b[0;32m   1737\u001b[0m     \u001b[38;5;28;01mreturn\u001b[39;00m \u001b[38;5;28mself\u001b[39m\u001b[38;5;241m.\u001b[39m_compiled_call_impl(\u001b[38;5;241m*\u001b[39margs, \u001b[38;5;241m*\u001b[39m\u001b[38;5;241m*\u001b[39mkwargs)  \u001b[38;5;66;03m# type: ignore[misc]\u001b[39;00m\n\u001b[0;32m   1738\u001b[0m \u001b[38;5;28;01melse\u001b[39;00m:\n\u001b[1;32m-> 1739\u001b[0m     \u001b[38;5;28;01mreturn\u001b[39;00m \u001b[38;5;28;43mself\u001b[39;49m\u001b[38;5;241;43m.\u001b[39;49m\u001b[43m_call_impl\u001b[49m\u001b[43m(\u001b[49m\u001b[38;5;241;43m*\u001b[39;49m\u001b[43margs\u001b[49m\u001b[43m,\u001b[49m\u001b[43m \u001b[49m\u001b[38;5;241;43m*\u001b[39;49m\u001b[38;5;241;43m*\u001b[39;49m\u001b[43mkwargs\u001b[49m\u001b[43m)\u001b[49m\n",
            "File \u001b[1;32mc:\\Users\\user\\AppData\\Local\\Programs\\Python\\Python312\\Lib\\site-packages\\torch\\nn\\modules\\module.py:1750\u001b[0m, in \u001b[0;36mModule._call_impl\u001b[1;34m(self, *args, **kwargs)\u001b[0m\n\u001b[0;32m   1745\u001b[0m \u001b[38;5;66;03m# If we don't have any hooks, we want to skip the rest of the logic in\u001b[39;00m\n\u001b[0;32m   1746\u001b[0m \u001b[38;5;66;03m# this function, and just call forward.\u001b[39;00m\n\u001b[0;32m   1747\u001b[0m \u001b[38;5;28;01mif\u001b[39;00m \u001b[38;5;129;01mnot\u001b[39;00m (\u001b[38;5;28mself\u001b[39m\u001b[38;5;241m.\u001b[39m_backward_hooks \u001b[38;5;129;01mor\u001b[39;00m \u001b[38;5;28mself\u001b[39m\u001b[38;5;241m.\u001b[39m_backward_pre_hooks \u001b[38;5;129;01mor\u001b[39;00m \u001b[38;5;28mself\u001b[39m\u001b[38;5;241m.\u001b[39m_forward_hooks \u001b[38;5;129;01mor\u001b[39;00m \u001b[38;5;28mself\u001b[39m\u001b[38;5;241m.\u001b[39m_forward_pre_hooks\n\u001b[0;32m   1748\u001b[0m         \u001b[38;5;129;01mor\u001b[39;00m _global_backward_pre_hooks \u001b[38;5;129;01mor\u001b[39;00m _global_backward_hooks\n\u001b[0;32m   1749\u001b[0m         \u001b[38;5;129;01mor\u001b[39;00m _global_forward_hooks \u001b[38;5;129;01mor\u001b[39;00m _global_forward_pre_hooks):\n\u001b[1;32m-> 1750\u001b[0m     \u001b[38;5;28;01mreturn\u001b[39;00m \u001b[43mforward_call\u001b[49m\u001b[43m(\u001b[49m\u001b[38;5;241;43m*\u001b[39;49m\u001b[43margs\u001b[49m\u001b[43m,\u001b[49m\u001b[43m \u001b[49m\u001b[38;5;241;43m*\u001b[39;49m\u001b[38;5;241;43m*\u001b[39;49m\u001b[43mkwargs\u001b[49m\u001b[43m)\u001b[49m\n\u001b[0;32m   1752\u001b[0m result \u001b[38;5;241m=\u001b[39m \u001b[38;5;28;01mNone\u001b[39;00m\n\u001b[0;32m   1753\u001b[0m called_always_called_hooks \u001b[38;5;241m=\u001b[39m \u001b[38;5;28mset\u001b[39m()\n",
            "File \u001b[1;32mc:\\Users\\user\\AppData\\Local\\Programs\\Python\\Python312\\Lib\\site-packages\\transformers\\models\\timesformer\\modeling_timesformer.py:636\u001b[0m, in \u001b[0;36mTimesformerModel.forward\u001b[1;34m(self, pixel_values, output_attentions, output_hidden_states, return_dict)\u001b[0m\n\u001b[0;32m    632\u001b[0m return_dict \u001b[38;5;241m=\u001b[39m return_dict \u001b[38;5;28;01mif\u001b[39;00m return_dict \u001b[38;5;129;01mis\u001b[39;00m \u001b[38;5;129;01mnot\u001b[39;00m \u001b[38;5;28;01mNone\u001b[39;00m \u001b[38;5;28;01melse\u001b[39;00m \u001b[38;5;28mself\u001b[39m\u001b[38;5;241m.\u001b[39mconfig\u001b[38;5;241m.\u001b[39muse_return_dict\n\u001b[0;32m    634\u001b[0m embedding_output \u001b[38;5;241m=\u001b[39m \u001b[38;5;28mself\u001b[39m\u001b[38;5;241m.\u001b[39membeddings(pixel_values)\n\u001b[1;32m--> 636\u001b[0m encoder_outputs \u001b[38;5;241m=\u001b[39m \u001b[38;5;28;43mself\u001b[39;49m\u001b[38;5;241;43m.\u001b[39;49m\u001b[43mencoder\u001b[49m\u001b[43m(\u001b[49m\n\u001b[0;32m    637\u001b[0m \u001b[43m    \u001b[49m\u001b[43membedding_output\u001b[49m\u001b[43m,\u001b[49m\n\u001b[0;32m    638\u001b[0m \u001b[43m    \u001b[49m\u001b[43moutput_attentions\u001b[49m\u001b[38;5;241;43m=\u001b[39;49m\u001b[43moutput_attentions\u001b[49m\u001b[43m,\u001b[49m\n\u001b[0;32m    639\u001b[0m \u001b[43m    \u001b[49m\u001b[43moutput_hidden_states\u001b[49m\u001b[38;5;241;43m=\u001b[39;49m\u001b[43moutput_hidden_states\u001b[49m\u001b[43m,\u001b[49m\n\u001b[0;32m    640\u001b[0m \u001b[43m    \u001b[49m\u001b[43mreturn_dict\u001b[49m\u001b[38;5;241;43m=\u001b[39;49m\u001b[43mreturn_dict\u001b[49m\u001b[43m,\u001b[49m\n\u001b[0;32m    641\u001b[0m \u001b[43m\u001b[49m\u001b[43m)\u001b[49m\n\u001b[0;32m    642\u001b[0m sequence_output \u001b[38;5;241m=\u001b[39m encoder_outputs[\u001b[38;5;241m0\u001b[39m]\n\u001b[0;32m    643\u001b[0m \u001b[38;5;28;01mif\u001b[39;00m \u001b[38;5;28mself\u001b[39m\u001b[38;5;241m.\u001b[39mlayernorm \u001b[38;5;129;01mis\u001b[39;00m \u001b[38;5;129;01mnot\u001b[39;00m \u001b[38;5;28;01mNone\u001b[39;00m:\n",
            "File \u001b[1;32mc:\\Users\\user\\AppData\\Local\\Programs\\Python\\Python312\\Lib\\site-packages\\torch\\nn\\modules\\module.py:1739\u001b[0m, in \u001b[0;36mModule._wrapped_call_impl\u001b[1;34m(self, *args, **kwargs)\u001b[0m\n\u001b[0;32m   1737\u001b[0m     \u001b[38;5;28;01mreturn\u001b[39;00m \u001b[38;5;28mself\u001b[39m\u001b[38;5;241m.\u001b[39m_compiled_call_impl(\u001b[38;5;241m*\u001b[39margs, \u001b[38;5;241m*\u001b[39m\u001b[38;5;241m*\u001b[39mkwargs)  \u001b[38;5;66;03m# type: ignore[misc]\u001b[39;00m\n\u001b[0;32m   1738\u001b[0m \u001b[38;5;28;01melse\u001b[39;00m:\n\u001b[1;32m-> 1739\u001b[0m     \u001b[38;5;28;01mreturn\u001b[39;00m \u001b[38;5;28;43mself\u001b[39;49m\u001b[38;5;241;43m.\u001b[39;49m\u001b[43m_call_impl\u001b[49m\u001b[43m(\u001b[49m\u001b[38;5;241;43m*\u001b[39;49m\u001b[43margs\u001b[49m\u001b[43m,\u001b[49m\u001b[43m \u001b[49m\u001b[38;5;241;43m*\u001b[39;49m\u001b[38;5;241;43m*\u001b[39;49m\u001b[43mkwargs\u001b[49m\u001b[43m)\u001b[49m\n",
            "File \u001b[1;32mc:\\Users\\user\\AppData\\Local\\Programs\\Python\\Python312\\Lib\\site-packages\\torch\\nn\\modules\\module.py:1750\u001b[0m, in \u001b[0;36mModule._call_impl\u001b[1;34m(self, *args, **kwargs)\u001b[0m\n\u001b[0;32m   1745\u001b[0m \u001b[38;5;66;03m# If we don't have any hooks, we want to skip the rest of the logic in\u001b[39;00m\n\u001b[0;32m   1746\u001b[0m \u001b[38;5;66;03m# this function, and just call forward.\u001b[39;00m\n\u001b[0;32m   1747\u001b[0m \u001b[38;5;28;01mif\u001b[39;00m \u001b[38;5;129;01mnot\u001b[39;00m (\u001b[38;5;28mself\u001b[39m\u001b[38;5;241m.\u001b[39m_backward_hooks \u001b[38;5;129;01mor\u001b[39;00m \u001b[38;5;28mself\u001b[39m\u001b[38;5;241m.\u001b[39m_backward_pre_hooks \u001b[38;5;129;01mor\u001b[39;00m \u001b[38;5;28mself\u001b[39m\u001b[38;5;241m.\u001b[39m_forward_hooks \u001b[38;5;129;01mor\u001b[39;00m \u001b[38;5;28mself\u001b[39m\u001b[38;5;241m.\u001b[39m_forward_pre_hooks\n\u001b[0;32m   1748\u001b[0m         \u001b[38;5;129;01mor\u001b[39;00m _global_backward_pre_hooks \u001b[38;5;129;01mor\u001b[39;00m _global_backward_hooks\n\u001b[0;32m   1749\u001b[0m         \u001b[38;5;129;01mor\u001b[39;00m _global_forward_hooks \u001b[38;5;129;01mor\u001b[39;00m _global_forward_pre_hooks):\n\u001b[1;32m-> 1750\u001b[0m     \u001b[38;5;28;01mreturn\u001b[39;00m \u001b[43mforward_call\u001b[49m\u001b[43m(\u001b[49m\u001b[38;5;241;43m*\u001b[39;49m\u001b[43margs\u001b[49m\u001b[43m,\u001b[49m\u001b[43m \u001b[49m\u001b[38;5;241;43m*\u001b[39;49m\u001b[38;5;241;43m*\u001b[39;49m\u001b[43mkwargs\u001b[49m\u001b[43m)\u001b[49m\n\u001b[0;32m   1752\u001b[0m result \u001b[38;5;241m=\u001b[39m \u001b[38;5;28;01mNone\u001b[39;00m\n\u001b[0;32m   1753\u001b[0m called_always_called_hooks \u001b[38;5;241m=\u001b[39m \u001b[38;5;28mset\u001b[39m()\n",
            "File \u001b[1;32mc:\\Users\\user\\AppData\\Local\\Programs\\Python\\Python312\\Lib\\site-packages\\transformers\\models\\timesformer\\modeling_timesformer.py:442\u001b[0m, in \u001b[0;36mTimesformerEncoder.forward\u001b[1;34m(self, hidden_states, output_attentions, output_hidden_states, return_dict)\u001b[0m\n\u001b[0;32m    436\u001b[0m     layer_outputs \u001b[38;5;241m=\u001b[39m \u001b[38;5;28mself\u001b[39m\u001b[38;5;241m.\u001b[39m_gradient_checkpointing_func(\n\u001b[0;32m    437\u001b[0m         layer_module\u001b[38;5;241m.\u001b[39m\u001b[38;5;21m__call__\u001b[39m,\n\u001b[0;32m    438\u001b[0m         hidden_states,\n\u001b[0;32m    439\u001b[0m         output_attentions,\n\u001b[0;32m    440\u001b[0m     )\n\u001b[0;32m    441\u001b[0m \u001b[38;5;28;01melse\u001b[39;00m:\n\u001b[1;32m--> 442\u001b[0m     layer_outputs \u001b[38;5;241m=\u001b[39m \u001b[43mlayer_module\u001b[49m\u001b[43m(\u001b[49m\u001b[43mhidden_states\u001b[49m\u001b[43m,\u001b[49m\u001b[43m \u001b[49m\u001b[43moutput_attentions\u001b[49m\u001b[43m)\u001b[49m\n\u001b[0;32m    444\u001b[0m hidden_states \u001b[38;5;241m=\u001b[39m layer_outputs[\u001b[38;5;241m0\u001b[39m]\n\u001b[0;32m    446\u001b[0m \u001b[38;5;28;01mif\u001b[39;00m output_attentions:\n",
            "File \u001b[1;32mc:\\Users\\user\\AppData\\Local\\Programs\\Python\\Python312\\Lib\\site-packages\\torch\\nn\\modules\\module.py:1739\u001b[0m, in \u001b[0;36mModule._wrapped_call_impl\u001b[1;34m(self, *args, **kwargs)\u001b[0m\n\u001b[0;32m   1737\u001b[0m     \u001b[38;5;28;01mreturn\u001b[39;00m \u001b[38;5;28mself\u001b[39m\u001b[38;5;241m.\u001b[39m_compiled_call_impl(\u001b[38;5;241m*\u001b[39margs, \u001b[38;5;241m*\u001b[39m\u001b[38;5;241m*\u001b[39mkwargs)  \u001b[38;5;66;03m# type: ignore[misc]\u001b[39;00m\n\u001b[0;32m   1738\u001b[0m \u001b[38;5;28;01melse\u001b[39;00m:\n\u001b[1;32m-> 1739\u001b[0m     \u001b[38;5;28;01mreturn\u001b[39;00m \u001b[38;5;28;43mself\u001b[39;49m\u001b[38;5;241;43m.\u001b[39;49m\u001b[43m_call_impl\u001b[49m\u001b[43m(\u001b[49m\u001b[38;5;241;43m*\u001b[39;49m\u001b[43margs\u001b[49m\u001b[43m,\u001b[49m\u001b[43m \u001b[49m\u001b[38;5;241;43m*\u001b[39;49m\u001b[38;5;241;43m*\u001b[39;49m\u001b[43mkwargs\u001b[49m\u001b[43m)\u001b[49m\n",
            "File \u001b[1;32mc:\\Users\\user\\AppData\\Local\\Programs\\Python\\Python312\\Lib\\site-packages\\torch\\nn\\modules\\module.py:1750\u001b[0m, in \u001b[0;36mModule._call_impl\u001b[1;34m(self, *args, **kwargs)\u001b[0m\n\u001b[0;32m   1745\u001b[0m \u001b[38;5;66;03m# If we don't have any hooks, we want to skip the rest of the logic in\u001b[39;00m\n\u001b[0;32m   1746\u001b[0m \u001b[38;5;66;03m# this function, and just call forward.\u001b[39;00m\n\u001b[0;32m   1747\u001b[0m \u001b[38;5;28;01mif\u001b[39;00m \u001b[38;5;129;01mnot\u001b[39;00m (\u001b[38;5;28mself\u001b[39m\u001b[38;5;241m.\u001b[39m_backward_hooks \u001b[38;5;129;01mor\u001b[39;00m \u001b[38;5;28mself\u001b[39m\u001b[38;5;241m.\u001b[39m_backward_pre_hooks \u001b[38;5;129;01mor\u001b[39;00m \u001b[38;5;28mself\u001b[39m\u001b[38;5;241m.\u001b[39m_forward_hooks \u001b[38;5;129;01mor\u001b[39;00m \u001b[38;5;28mself\u001b[39m\u001b[38;5;241m.\u001b[39m_forward_pre_hooks\n\u001b[0;32m   1748\u001b[0m         \u001b[38;5;129;01mor\u001b[39;00m _global_backward_pre_hooks \u001b[38;5;129;01mor\u001b[39;00m _global_backward_hooks\n\u001b[0;32m   1749\u001b[0m         \u001b[38;5;129;01mor\u001b[39;00m _global_forward_hooks \u001b[38;5;129;01mor\u001b[39;00m _global_forward_pre_hooks):\n\u001b[1;32m-> 1750\u001b[0m     \u001b[38;5;28;01mreturn\u001b[39;00m \u001b[43mforward_call\u001b[49m\u001b[43m(\u001b[49m\u001b[38;5;241;43m*\u001b[39;49m\u001b[43margs\u001b[49m\u001b[43m,\u001b[49m\u001b[43m \u001b[49m\u001b[38;5;241;43m*\u001b[39;49m\u001b[38;5;241;43m*\u001b[39;49m\u001b[43mkwargs\u001b[49m\u001b[43m)\u001b[49m\n\u001b[0;32m   1752\u001b[0m result \u001b[38;5;241m=\u001b[39m \u001b[38;5;28;01mNone\u001b[39;00m\n\u001b[0;32m   1753\u001b[0m called_always_called_hooks \u001b[38;5;241m=\u001b[39m \u001b[38;5;28mset\u001b[39m()\n",
            "File \u001b[1;32mc:\\Users\\user\\AppData\\Local\\Programs\\Python\\Python312\\Lib\\site-packages\\transformers\\models\\timesformer\\modeling_timesformer.py:379\u001b[0m, in \u001b[0;36mTimesformerLayer.forward\u001b[1;34m(self, hidden_states, output_attentions)\u001b[0m\n\u001b[0;32m    370\u001b[0m spatial_embedding \u001b[38;5;241m=\u001b[39m (\n\u001b[0;32m    371\u001b[0m     spatial_embedding\u001b[38;5;241m.\u001b[39mreshape(\n\u001b[0;32m    372\u001b[0m         batch_size, num_patch_height, num_patch_width, num_frames, spatial_embedding\u001b[38;5;241m.\u001b[39mshape[\u001b[38;5;241m2\u001b[39m]\n\u001b[1;32m   (...)\u001b[0m\n\u001b[0;32m    375\u001b[0m     \u001b[38;5;241m.\u001b[39mreshape(batch_size \u001b[38;5;241m*\u001b[39m num_frames, num_patch_height \u001b[38;5;241m*\u001b[39m num_patch_width, spatial_embedding\u001b[38;5;241m.\u001b[39mshape[\u001b[38;5;241m2\u001b[39m])\n\u001b[0;32m    376\u001b[0m )\n\u001b[0;32m    377\u001b[0m spatial_embedding \u001b[38;5;241m=\u001b[39m torch\u001b[38;5;241m.\u001b[39mcat((cls_token, spatial_embedding), \u001b[38;5;241m1\u001b[39m)\n\u001b[1;32m--> 379\u001b[0m spatial_attention_outputs \u001b[38;5;241m=\u001b[39m \u001b[38;5;28;43mself\u001b[39;49m\u001b[38;5;241;43m.\u001b[39;49m\u001b[43mattention\u001b[49m\u001b[43m(\u001b[49m\n\u001b[0;32m    380\u001b[0m \u001b[43m    \u001b[49m\u001b[38;5;28;43mself\u001b[39;49m\u001b[38;5;241;43m.\u001b[39;49m\u001b[43mlayernorm_before\u001b[49m\u001b[43m(\u001b[49m\u001b[43mspatial_embedding\u001b[49m\u001b[43m)\u001b[49m\u001b[43m,\u001b[49m\u001b[43m \u001b[49m\u001b[43moutput_attentions\u001b[49m\u001b[38;5;241;43m=\u001b[39;49m\u001b[43moutput_attentions\u001b[49m\n\u001b[0;32m    381\u001b[0m \u001b[43m\u001b[49m\u001b[43m)\u001b[49m\n\u001b[0;32m    382\u001b[0m attention_output \u001b[38;5;241m=\u001b[39m spatial_attention_outputs[\u001b[38;5;241m0\u001b[39m]\n\u001b[0;32m    383\u001b[0m outputs \u001b[38;5;241m=\u001b[39m spatial_attention_outputs[\u001b[38;5;241m1\u001b[39m:]  \u001b[38;5;66;03m# add self attentions if we output attention weights\u001b[39;00m\n",
            "File \u001b[1;32mc:\\Users\\user\\AppData\\Local\\Programs\\Python\\Python312\\Lib\\site-packages\\torch\\nn\\modules\\module.py:1739\u001b[0m, in \u001b[0;36mModule._wrapped_call_impl\u001b[1;34m(self, *args, **kwargs)\u001b[0m\n\u001b[0;32m   1737\u001b[0m     \u001b[38;5;28;01mreturn\u001b[39;00m \u001b[38;5;28mself\u001b[39m\u001b[38;5;241m.\u001b[39m_compiled_call_impl(\u001b[38;5;241m*\u001b[39margs, \u001b[38;5;241m*\u001b[39m\u001b[38;5;241m*\u001b[39mkwargs)  \u001b[38;5;66;03m# type: ignore[misc]\u001b[39;00m\n\u001b[0;32m   1738\u001b[0m \u001b[38;5;28;01melse\u001b[39;00m:\n\u001b[1;32m-> 1739\u001b[0m     \u001b[38;5;28;01mreturn\u001b[39;00m \u001b[38;5;28;43mself\u001b[39;49m\u001b[38;5;241;43m.\u001b[39;49m\u001b[43m_call_impl\u001b[49m\u001b[43m(\u001b[49m\u001b[38;5;241;43m*\u001b[39;49m\u001b[43margs\u001b[49m\u001b[43m,\u001b[49m\u001b[43m \u001b[49m\u001b[38;5;241;43m*\u001b[39;49m\u001b[38;5;241;43m*\u001b[39;49m\u001b[43mkwargs\u001b[49m\u001b[43m)\u001b[49m\n",
            "File \u001b[1;32mc:\\Users\\user\\AppData\\Local\\Programs\\Python\\Python312\\Lib\\site-packages\\torch\\nn\\modules\\module.py:1750\u001b[0m, in \u001b[0;36mModule._call_impl\u001b[1;34m(self, *args, **kwargs)\u001b[0m\n\u001b[0;32m   1745\u001b[0m \u001b[38;5;66;03m# If we don't have any hooks, we want to skip the rest of the logic in\u001b[39;00m\n\u001b[0;32m   1746\u001b[0m \u001b[38;5;66;03m# this function, and just call forward.\u001b[39;00m\n\u001b[0;32m   1747\u001b[0m \u001b[38;5;28;01mif\u001b[39;00m \u001b[38;5;129;01mnot\u001b[39;00m (\u001b[38;5;28mself\u001b[39m\u001b[38;5;241m.\u001b[39m_backward_hooks \u001b[38;5;129;01mor\u001b[39;00m \u001b[38;5;28mself\u001b[39m\u001b[38;5;241m.\u001b[39m_backward_pre_hooks \u001b[38;5;129;01mor\u001b[39;00m \u001b[38;5;28mself\u001b[39m\u001b[38;5;241m.\u001b[39m_forward_hooks \u001b[38;5;129;01mor\u001b[39;00m \u001b[38;5;28mself\u001b[39m\u001b[38;5;241m.\u001b[39m_forward_pre_hooks\n\u001b[0;32m   1748\u001b[0m         \u001b[38;5;129;01mor\u001b[39;00m _global_backward_pre_hooks \u001b[38;5;129;01mor\u001b[39;00m _global_backward_hooks\n\u001b[0;32m   1749\u001b[0m         \u001b[38;5;129;01mor\u001b[39;00m _global_forward_hooks \u001b[38;5;129;01mor\u001b[39;00m _global_forward_pre_hooks):\n\u001b[1;32m-> 1750\u001b[0m     \u001b[38;5;28;01mreturn\u001b[39;00m \u001b[43mforward_call\u001b[49m\u001b[43m(\u001b[49m\u001b[38;5;241;43m*\u001b[39;49m\u001b[43margs\u001b[49m\u001b[43m,\u001b[49m\u001b[43m \u001b[49m\u001b[38;5;241;43m*\u001b[39;49m\u001b[38;5;241;43m*\u001b[39;49m\u001b[43mkwargs\u001b[49m\u001b[43m)\u001b[49m\n\u001b[0;32m   1752\u001b[0m result \u001b[38;5;241m=\u001b[39m \u001b[38;5;28;01mNone\u001b[39;00m\n\u001b[0;32m   1753\u001b[0m called_always_called_hooks \u001b[38;5;241m=\u001b[39m \u001b[38;5;28mset\u001b[39m()\n",
            "File \u001b[1;32mc:\\Users\\user\\AppData\\Local\\Programs\\Python\\Python312\\Lib\\site-packages\\transformers\\models\\timesformer\\modeling_timesformer.py:249\u001b[0m, in \u001b[0;36mTimeSformerAttention.forward\u001b[1;34m(self, hidden_states, output_attentions)\u001b[0m\n\u001b[0;32m    244\u001b[0m \u001b[38;5;28;01mdef\u001b[39;00m \u001b[38;5;21mforward\u001b[39m(\n\u001b[0;32m    245\u001b[0m     \u001b[38;5;28mself\u001b[39m,\n\u001b[0;32m    246\u001b[0m     hidden_states: torch\u001b[38;5;241m.\u001b[39mTensor,\n\u001b[0;32m    247\u001b[0m     output_attentions: \u001b[38;5;28mbool\u001b[39m \u001b[38;5;241m=\u001b[39m \u001b[38;5;28;01mFalse\u001b[39;00m,\n\u001b[0;32m    248\u001b[0m ) \u001b[38;5;241m-\u001b[39m\u001b[38;5;241m>\u001b[39m Union[Tuple[torch\u001b[38;5;241m.\u001b[39mTensor, torch\u001b[38;5;241m.\u001b[39mTensor], Tuple[torch\u001b[38;5;241m.\u001b[39mTensor]]:\n\u001b[1;32m--> 249\u001b[0m     self_outputs \u001b[38;5;241m=\u001b[39m \u001b[38;5;28;43mself\u001b[39;49m\u001b[38;5;241;43m.\u001b[39;49m\u001b[43mattention\u001b[49m\u001b[43m(\u001b[49m\u001b[43mhidden_states\u001b[49m\u001b[43m,\u001b[49m\u001b[43m \u001b[49m\u001b[43moutput_attentions\u001b[49m\u001b[43m)\u001b[49m\n\u001b[0;32m    251\u001b[0m     attention_output \u001b[38;5;241m=\u001b[39m \u001b[38;5;28mself\u001b[39m\u001b[38;5;241m.\u001b[39moutput(self_outputs[\u001b[38;5;241m0\u001b[39m])\n\u001b[0;32m    253\u001b[0m     outputs \u001b[38;5;241m=\u001b[39m (attention_output,) \u001b[38;5;241m+\u001b[39m self_outputs[\u001b[38;5;241m1\u001b[39m:]  \u001b[38;5;66;03m# add attentions if we output them\u001b[39;00m\n",
            "File \u001b[1;32mc:\\Users\\user\\AppData\\Local\\Programs\\Python\\Python312\\Lib\\site-packages\\torch\\nn\\modules\\module.py:1739\u001b[0m, in \u001b[0;36mModule._wrapped_call_impl\u001b[1;34m(self, *args, **kwargs)\u001b[0m\n\u001b[0;32m   1737\u001b[0m     \u001b[38;5;28;01mreturn\u001b[39;00m \u001b[38;5;28mself\u001b[39m\u001b[38;5;241m.\u001b[39m_compiled_call_impl(\u001b[38;5;241m*\u001b[39margs, \u001b[38;5;241m*\u001b[39m\u001b[38;5;241m*\u001b[39mkwargs)  \u001b[38;5;66;03m# type: ignore[misc]\u001b[39;00m\n\u001b[0;32m   1738\u001b[0m \u001b[38;5;28;01melse\u001b[39;00m:\n\u001b[1;32m-> 1739\u001b[0m     \u001b[38;5;28;01mreturn\u001b[39;00m \u001b[38;5;28;43mself\u001b[39;49m\u001b[38;5;241;43m.\u001b[39;49m\u001b[43m_call_impl\u001b[49m\u001b[43m(\u001b[49m\u001b[38;5;241;43m*\u001b[39;49m\u001b[43margs\u001b[49m\u001b[43m,\u001b[49m\u001b[43m \u001b[49m\u001b[38;5;241;43m*\u001b[39;49m\u001b[38;5;241;43m*\u001b[39;49m\u001b[43mkwargs\u001b[49m\u001b[43m)\u001b[49m\n",
            "File \u001b[1;32mc:\\Users\\user\\AppData\\Local\\Programs\\Python\\Python312\\Lib\\site-packages\\torch\\nn\\modules\\module.py:1750\u001b[0m, in \u001b[0;36mModule._call_impl\u001b[1;34m(self, *args, **kwargs)\u001b[0m\n\u001b[0;32m   1745\u001b[0m \u001b[38;5;66;03m# If we don't have any hooks, we want to skip the rest of the logic in\u001b[39;00m\n\u001b[0;32m   1746\u001b[0m \u001b[38;5;66;03m# this function, and just call forward.\u001b[39;00m\n\u001b[0;32m   1747\u001b[0m \u001b[38;5;28;01mif\u001b[39;00m \u001b[38;5;129;01mnot\u001b[39;00m (\u001b[38;5;28mself\u001b[39m\u001b[38;5;241m.\u001b[39m_backward_hooks \u001b[38;5;129;01mor\u001b[39;00m \u001b[38;5;28mself\u001b[39m\u001b[38;5;241m.\u001b[39m_backward_pre_hooks \u001b[38;5;129;01mor\u001b[39;00m \u001b[38;5;28mself\u001b[39m\u001b[38;5;241m.\u001b[39m_forward_hooks \u001b[38;5;129;01mor\u001b[39;00m \u001b[38;5;28mself\u001b[39m\u001b[38;5;241m.\u001b[39m_forward_pre_hooks\n\u001b[0;32m   1748\u001b[0m         \u001b[38;5;129;01mor\u001b[39;00m _global_backward_pre_hooks \u001b[38;5;129;01mor\u001b[39;00m _global_backward_hooks\n\u001b[0;32m   1749\u001b[0m         \u001b[38;5;129;01mor\u001b[39;00m _global_forward_hooks \u001b[38;5;129;01mor\u001b[39;00m _global_forward_pre_hooks):\n\u001b[1;32m-> 1750\u001b[0m     \u001b[38;5;28;01mreturn\u001b[39;00m \u001b[43mforward_call\u001b[49m\u001b[43m(\u001b[49m\u001b[38;5;241;43m*\u001b[39;49m\u001b[43margs\u001b[49m\u001b[43m,\u001b[49m\u001b[43m \u001b[49m\u001b[38;5;241;43m*\u001b[39;49m\u001b[38;5;241;43m*\u001b[39;49m\u001b[43mkwargs\u001b[49m\u001b[43m)\u001b[49m\n\u001b[0;32m   1752\u001b[0m result \u001b[38;5;241m=\u001b[39m \u001b[38;5;28;01mNone\u001b[39;00m\n\u001b[0;32m   1753\u001b[0m called_always_called_hooks \u001b[38;5;241m=\u001b[39m \u001b[38;5;28mset\u001b[39m()\n",
            "File \u001b[1;32mc:\\Users\\user\\AppData\\Local\\Programs\\Python\\Python312\\Lib\\site-packages\\transformers\\models\\timesformer\\modeling_timesformer.py:209\u001b[0m, in \u001b[0;36mTimesformerSelfAttention.forward\u001b[1;34m(self, hidden_states, output_attentions)\u001b[0m\n\u001b[0;32m    202\u001b[0m qkv \u001b[38;5;241m=\u001b[39m (\n\u001b[0;32m    203\u001b[0m     \u001b[38;5;28mself\u001b[39m\u001b[38;5;241m.\u001b[39mqkv(hidden_states)\n\u001b[0;32m    204\u001b[0m     \u001b[38;5;241m.\u001b[39mreshape(batch_size, hidden_size, \u001b[38;5;241m3\u001b[39m, \u001b[38;5;28mself\u001b[39m\u001b[38;5;241m.\u001b[39mnum_heads, num_channels \u001b[38;5;241m/\u001b[39m\u001b[38;5;241m/\u001b[39m \u001b[38;5;28mself\u001b[39m\u001b[38;5;241m.\u001b[39mnum_heads)\n\u001b[0;32m    205\u001b[0m     \u001b[38;5;241m.\u001b[39mpermute(\u001b[38;5;241m2\u001b[39m, \u001b[38;5;241m0\u001b[39m, \u001b[38;5;241m3\u001b[39m, \u001b[38;5;241m1\u001b[39m, \u001b[38;5;241m4\u001b[39m)\n\u001b[0;32m    206\u001b[0m )\n\u001b[0;32m    207\u001b[0m query, key, value \u001b[38;5;241m=\u001b[39m qkv[\u001b[38;5;241m0\u001b[39m], qkv[\u001b[38;5;241m1\u001b[39m], qkv[\u001b[38;5;241m2\u001b[39m]\n\u001b[1;32m--> 209\u001b[0m attention_probs \u001b[38;5;241m=\u001b[39m (\u001b[43mquery\u001b[49m\u001b[43m \u001b[49m\u001b[38;5;241;43m@\u001b[39;49m\u001b[43m \u001b[49m\u001b[43mkey\u001b[49m\u001b[38;5;241;43m.\u001b[39;49m\u001b[43mtranspose\u001b[49m\u001b[43m(\u001b[49m\u001b[38;5;241;43m-\u001b[39;49m\u001b[38;5;241;43m2\u001b[39;49m\u001b[43m,\u001b[49m\u001b[43m \u001b[49m\u001b[38;5;241;43m-\u001b[39;49m\u001b[38;5;241;43m1\u001b[39;49m\u001b[43m)\u001b[49m) \u001b[38;5;241m*\u001b[39m \u001b[38;5;28mself\u001b[39m\u001b[38;5;241m.\u001b[39mscale\n\u001b[0;32m    210\u001b[0m attention_probs \u001b[38;5;241m=\u001b[39m attention_probs\u001b[38;5;241m.\u001b[39msoftmax(dim\u001b[38;5;241m=\u001b[39m\u001b[38;5;241m-\u001b[39m\u001b[38;5;241m1\u001b[39m)\n\u001b[0;32m    211\u001b[0m attention_probs \u001b[38;5;241m=\u001b[39m \u001b[38;5;28mself\u001b[39m\u001b[38;5;241m.\u001b[39mattn_drop(attention_probs)\n",
            "\u001b[1;31mOutOfMemoryError\u001b[0m: CUDA out of memory. Tried to allocate 120.88 GiB. GPU 0 has a total capacity of 47.99 GiB of which 40.60 GiB is free. Of the allocated memory 5.64 GiB is allocated by PyTorch, and 136.37 MiB is reserved by PyTorch but unallocated. If reserved but unallocated memory is large try setting PYTORCH_CUDA_ALLOC_CONF=expandable_segments:True to avoid fragmentation.  See documentation for Memory Management  (https://pytorch.org/docs/stable/notes/cuda.html#environment-variables)"
          ]
        }
      ],
      "source": [
        "import torch\n",
        "import cv2\n",
        "from torchvision import transforms\n",
        "\n",
        "device = torch.device(\"cuda\" if torch.cuda.is_available() else \"cpu\")\n",
        "\n",
        "# Load the trained model\n",
        "def load_trained_model(model_path=\"C:\\\\Users\\\\user\\\\Desktop\\\\raushan\\\\best_model_epoch_10.pth\"):\n",
        "    model.load_state_dict(torch.load(model_path, map_location=device))\n",
        "    model.eval()\n",
        "    print(\"Model loaded successfully!\")\n",
        "    return model\n",
        "\n",
        "# Read video frames using OpenCV\n",
        "def read_video_opencv(video_path):\n",
        "    cap = cv2.VideoCapture(video_path)\n",
        "    frames = []\n",
        "    \n",
        "    transform = transforms.Compose([\n",
        "        transforms.ToPILImage(),\n",
        "        transforms.Resize((64, 64)),  # Resize frames to match model input\n",
        "        transforms.ToTensor(),\n",
        "    ])\n",
        "    \n",
        "    while cap.isOpened():\n",
        "        ret, frame = cap.read()\n",
        "        if not ret:\n",
        "            break\n",
        "        frame = cv2.cvtColor(frame, cv2.COLOR_BGR2RGB)  # Convert BGR to RGB\n",
        "        frames.append(transform(frame))\n",
        "    \n",
        "    cap.release()\n",
        "    \n",
        "    if len(frames) == 0:\n",
        "        raise ValueError(\"No frames were extracted from the video!\")\n",
        "    \n",
        "    return torch.stack(frames)\n",
        "\n",
        "# Predict the class of a video\n",
        "def predict_on_video(video_path, model):\n",
        "    frames = read_video_opencv(video_path)  # Extract frames\n",
        "    frames = frames.unsqueeze(0).to(device)  # Add batch dimension\n",
        "    \n",
        "    with torch.no_grad():\n",
        "        outputs = model(frames).logits  # Get model output\n",
        "        pred_class = torch.argmax(outputs, dim=1).item()  # Get predicted class\n",
        "    \n",
        "    return pred_class\n",
        "\n",
        "# Example usage\n",
        "model = load_trained_model(\"C:\\\\Users\\\\user\\\\Desktop\\\\raushan\\\\best_model_epoch_10.pth\")  # Load trained model\n",
        "video_path = \"C:\\\\Users\\\\user\\\\Desktop\\\\raushan\\\\videoplayback (online-video-cutter.com).mp4\"  # Change this to your video file path\n",
        "predicted_class = predict_on_video(video_path, model)\n",
        "print(f\"Predicted Class: {predicted_class}\")\n"
      ]
    },
    {
      "cell_type": "code",
      "execution_count": null,
      "metadata": {},
      "outputs": [],
      "source": []
    },
    {
      "cell_type": "code",
      "execution_count": 49,
      "metadata": {},
      "outputs": [],
      "source": [
        "# Prediction on test dataset\n",
        "def predict_on_test():\n",
        "    model.eval()\n",
        "    predictions = []\n",
        "    with torch.no_grad():\n",
        "        for batch in test_loader:\n",
        "            frames, _ = batch\n",
        "            frames = frames.to(device)\n",
        "            outputs = model(frames).logits\n",
        "            preds = torch.argmax(outputs, dim=1).cpu().numpy()\n",
        "            predictions.extend(preds)\n",
        "    return predictions\n"
      ]
    },
    {
      "cell_type": "code",
      "execution_count": 50,
      "metadata": {},
      "outputs": [],
      "source": [
        "# Video prediction function\n",
        "def predict_on_video(video_path):\n",
        "    frames, _, _ = read_video(video_path, pts_unit='sec')\n",
        "    transform = transforms.Compose([\n",
        "        transforms.Resize((64, 64)),\n",
        "        transforms.ToTensor(),\n",
        "    ])\n",
        "    frames = torch.stack([transform(frame) for frame in frames])\n",
        "    frames = frames.unsqueeze(0).to(device)  # Add batch dimension\n",
        "    \n",
        "    model.eval()\n",
        "    with torch.no_grad():\n",
        "        outputs = model(frames).logits\n",
        "        pred = torch.argmax(outputs, dim=1).item()\n",
        "    \n",
        "    return pred\n"
      ]
    },
    {
      "cell_type": "code",
      "execution_count": 51,
      "metadata": {},
      "outputs": [
        {
          "ename": "ImportError",
          "evalue": "PyAV is not installed, and is necessary for the video operations in torchvision.\nSee https://github.com/mikeboers/PyAV#installation for instructions on how to\ninstall PyAV on your system.\n",
          "output_type": "error",
          "traceback": [
            "\u001b[1;31m---------------------------------------------------------------------------\u001b[0m",
            "\u001b[1;31mImportError\u001b[0m                               Traceback (most recent call last)",
            "Cell \u001b[1;32mIn[51], line 1\u001b[0m\n\u001b[1;32m----> 1\u001b[0m \u001b[43mpredict_on_video\u001b[49m\u001b[43m(\u001b[49m\u001b[38;5;124;43m\"\u001b[39;49m\u001b[38;5;124;43mC:\u001b[39;49m\u001b[38;5;130;43;01m\\\\\u001b[39;49;00m\u001b[38;5;124;43mUsers\u001b[39;49m\u001b[38;5;130;43;01m\\\\\u001b[39;49;00m\u001b[38;5;124;43muser\u001b[39;49m\u001b[38;5;130;43;01m\\\\\u001b[39;49;00m\u001b[38;5;124;43mDesktop\u001b[39;49m\u001b[38;5;130;43;01m\\\\\u001b[39;49;00m\u001b[38;5;124;43mraushan\u001b[39;49m\u001b[38;5;130;43;01m\\\\\u001b[39;49;00m\u001b[38;5;124;43mmixkit-strong-female-mixed-martial-arts-fighter-40991-hd-ready.mp4\u001b[39;49m\u001b[38;5;124;43m\"\u001b[39;49m\u001b[43m)\u001b[49m\n",
            "Cell \u001b[1;32mIn[50], line 3\u001b[0m, in \u001b[0;36mpredict_on_video\u001b[1;34m(video_path)\u001b[0m\n\u001b[0;32m      2\u001b[0m \u001b[38;5;28;01mdef\u001b[39;00m \u001b[38;5;21mpredict_on_video\u001b[39m(video_path):\n\u001b[1;32m----> 3\u001b[0m     frames, _, _ \u001b[38;5;241m=\u001b[39m \u001b[43mread_video\u001b[49m\u001b[43m(\u001b[49m\u001b[43mvideo_path\u001b[49m\u001b[43m,\u001b[49m\u001b[43m \u001b[49m\u001b[43mpts_unit\u001b[49m\u001b[38;5;241;43m=\u001b[39;49m\u001b[38;5;124;43m'\u001b[39;49m\u001b[38;5;124;43msec\u001b[39;49m\u001b[38;5;124;43m'\u001b[39;49m\u001b[43m)\u001b[49m\n\u001b[0;32m      4\u001b[0m     transform \u001b[38;5;241m=\u001b[39m transforms\u001b[38;5;241m.\u001b[39mCompose([\n\u001b[0;32m      5\u001b[0m         transforms\u001b[38;5;241m.\u001b[39mResize((\u001b[38;5;241m64\u001b[39m, \u001b[38;5;241m64\u001b[39m)),\n\u001b[0;32m      6\u001b[0m         transforms\u001b[38;5;241m.\u001b[39mToTensor(),\n\u001b[0;32m      7\u001b[0m     ])\n\u001b[0;32m      8\u001b[0m     frames \u001b[38;5;241m=\u001b[39m torch\u001b[38;5;241m.\u001b[39mstack([transform(frame) \u001b[38;5;28;01mfor\u001b[39;00m frame \u001b[38;5;129;01min\u001b[39;00m frames])\n",
            "File \u001b[1;32mc:\\Users\\user\\AppData\\Local\\Programs\\Python\\Python312\\Lib\\site-packages\\torchvision\\io\\video.py:319\u001b[0m, in \u001b[0;36mread_video\u001b[1;34m(filename, start_pts, end_pts, pts_unit, output_format)\u001b[0m\n\u001b[0;32m    317\u001b[0m     vframes, aframes, info \u001b[38;5;241m=\u001b[39m _video_opt\u001b[38;5;241m.\u001b[39m_read_video(filename, start_pts, end_pts, pts_unit)\n\u001b[0;32m    318\u001b[0m \u001b[38;5;28;01melse\u001b[39;00m:\n\u001b[1;32m--> 319\u001b[0m     \u001b[43m_check_av_available\u001b[49m\u001b[43m(\u001b[49m\u001b[43m)\u001b[49m\n\u001b[0;32m    321\u001b[0m     \u001b[38;5;28;01mif\u001b[39;00m end_pts \u001b[38;5;129;01mis\u001b[39;00m \u001b[38;5;28;01mNone\u001b[39;00m:\n\u001b[0;32m    322\u001b[0m         end_pts \u001b[38;5;241m=\u001b[39m \u001b[38;5;28mfloat\u001b[39m(\u001b[38;5;124m\"\u001b[39m\u001b[38;5;124minf\u001b[39m\u001b[38;5;124m\"\u001b[39m)\n",
            "File \u001b[1;32mc:\\Users\\user\\AppData\\Local\\Programs\\Python\\Python312\\Lib\\site-packages\\torchvision\\io\\video.py:45\u001b[0m, in \u001b[0;36m_check_av_available\u001b[1;34m()\u001b[0m\n\u001b[0;32m     43\u001b[0m \u001b[38;5;28;01mdef\u001b[39;00m \u001b[38;5;21m_check_av_available\u001b[39m() \u001b[38;5;241m-\u001b[39m\u001b[38;5;241m>\u001b[39m \u001b[38;5;28;01mNone\u001b[39;00m:\n\u001b[0;32m     44\u001b[0m     \u001b[38;5;28;01mif\u001b[39;00m \u001b[38;5;28misinstance\u001b[39m(av, \u001b[38;5;167;01mException\u001b[39;00m):\n\u001b[1;32m---> 45\u001b[0m         \u001b[38;5;28;01mraise\u001b[39;00m av\n",
            "\u001b[1;31mImportError\u001b[0m: PyAV is not installed, and is necessary for the video operations in torchvision.\nSee https://github.com/mikeboers/PyAV#installation for instructions on how to\ninstall PyAV on your system.\n"
          ]
        }
      ],
      "source": [
        "predict_on_video(\"C:\\\\Users\\\\user\\\\Desktop\\\\raushan\\\\mixkit-strong-female-mixed-martial-arts-fighter-40991-hd-ready.mp4\")"
      ]
    },
    {
      "cell_type": "code",
      "execution_count": null,
      "metadata": {},
      "outputs": [
        {
          "name": "stderr",
          "output_type": "stream",
          "text": [
            "Some weights of TimesformerForVideoClassification were not initialized from the model checkpoint at facebook/timesformer-base-finetuned-k400 and are newly initialized because the shapes did not match:\n",
            "- timesformer.embeddings.position_embeddings: found shape torch.Size([1, 197, 768]) in the checkpoint and torch.Size([1, 65, 768]) in the model instantiated\n",
            "- timesformer.embeddings.patch_embeddings.projection.weight: found shape torch.Size([768, 3, 16, 16]) in the checkpoint and torch.Size([768, 3, 8, 8]) in the model instantiated\n",
            "- classifier.weight: found shape torch.Size([400, 768]) in the checkpoint and torch.Size([14, 768]) in the model instantiated\n",
            "- classifier.bias: found shape torch.Size([400]) in the checkpoint and torch.Size([14]) in the model instantiated\n",
            "You should probably TRAIN this model on a down-stream task to be able to use it for predictions and inference.\n"
          ]
        },
        {
          "ename": "KeyError",
          "evalue": "'C:\\\\Users\\\\user\\\\Desktop\\\\raushan'",
          "output_type": "error",
          "traceback": [
            "\u001b[1;31m---------------------------------------------------------------------------\u001b[0m",
            "\u001b[1;31mKeyError\u001b[0m                                  Traceback (most recent call last)",
            "Cell \u001b[1;32mIn[27], line 78\u001b[0m\n\u001b[0;32m     75\u001b[0m device \u001b[38;5;241m=\u001b[39m torch\u001b[38;5;241m.\u001b[39mdevice(\u001b[38;5;124m\"\u001b[39m\u001b[38;5;124mcuda\u001b[39m\u001b[38;5;124m\"\u001b[39m \u001b[38;5;28;01mif\u001b[39;00m torch\u001b[38;5;241m.\u001b[39mcuda\u001b[38;5;241m.\u001b[39mis_available() \u001b[38;5;28;01melse\u001b[39;00m \u001b[38;5;124m\"\u001b[39m\u001b[38;5;124mcpu\u001b[39m\u001b[38;5;124m\"\u001b[39m)\n\u001b[0;32m     77\u001b[0m \u001b[38;5;66;03m# Load the model\u001b[39;00m\n\u001b[1;32m---> 78\u001b[0m model \u001b[38;5;241m=\u001b[39m \u001b[43mload_model\u001b[49m\u001b[43m(\u001b[49m\u001b[43mcheckpoint_path\u001b[49m\u001b[43m)\u001b[49m\n\u001b[0;32m     79\u001b[0m model\u001b[38;5;241m.\u001b[39mto(device)\n\u001b[0;32m     81\u001b[0m \u001b[38;5;66;03m# Assuming you have a DataLoader for your test set (e.g., `test_loader`):\u001b[39;00m\n\u001b[0;32m     82\u001b[0m \u001b[38;5;66;03m# Replace this with your actual test or validation DataLoader\u001b[39;00m\n\u001b[0;32m     83\u001b[0m \u001b[38;5;66;03m# test_loader = DataLoader(...)\u001b[39;00m\n\u001b[0;32m     84\u001b[0m \n\u001b[0;32m     85\u001b[0m \u001b[38;5;66;03m# Evaluate the model on the test set\u001b[39;00m\n",
            "Cell \u001b[1;32mIn[27], line 22\u001b[0m, in \u001b[0;36mload_model\u001b[1;34m(checkpoint_path, config_path)\u001b[0m\n\u001b[0;32m     20\u001b[0m \u001b[38;5;66;03m# Load the checkpoint (fine-tuned weights)\u001b[39;00m\n\u001b[0;32m     21\u001b[0m checkpoint \u001b[38;5;241m=\u001b[39m torch\u001b[38;5;241m.\u001b[39mload(checkpoint_path)\n\u001b[1;32m---> 22\u001b[0m model\u001b[38;5;241m.\u001b[39mload_state_dict(\u001b[43mcheckpoint\u001b[49m\u001b[43m[\u001b[49m\u001b[38;5;124;43m'\u001b[39;49m\u001b[38;5;124;43mC:\u001b[39;49m\u001b[38;5;130;43;01m\\\\\u001b[39;49;00m\u001b[38;5;124;43mUsers\u001b[39;49m\u001b[38;5;130;43;01m\\\\\u001b[39;49;00m\u001b[38;5;124;43muser\u001b[39;49m\u001b[38;5;130;43;01m\\\\\u001b[39;49;00m\u001b[38;5;124;43mDesktop\u001b[39;49m\u001b[38;5;130;43;01m\\\\\u001b[39;49;00m\u001b[38;5;124;43mraushan\u001b[39;49m\u001b[38;5;124;43m'\u001b[39;49m\u001b[43m]\u001b[49m)\n\u001b[0;32m     23\u001b[0m model\u001b[38;5;241m.\u001b[39meval()  \u001b[38;5;66;03m# Set the model to evaluation mode\u001b[39;00m\n\u001b[0;32m     24\u001b[0m \u001b[38;5;28;01mreturn\u001b[39;00m model\n",
            "\u001b[1;31mKeyError\u001b[0m: 'C:\\\\Users\\\\user\\\\Desktop\\\\raushan'"
          ]
        }
      ],
      "source": [
        "import torch\n",
        "from sklearn.metrics import accuracy_score, precision_recall_fscore_support, confusion_matrix\n",
        "import seaborn as sns\n",
        "import matplotlib.pyplot as plt\n",
        "from transformers import AutoConfig, AutoModelForVideoClassification\n",
        "from torch.utils.data import DataLoader\n",
        "import numpy as np\n",
        "\n",
        "# Function to load the model\n",
        "def load_model(checkpoint_path, config_path=\"facebook/timesformer-base-finetuned-k400\"):\n",
        "    # Load the configuration\n",
        "    config = AutoConfig.from_pretrained(config_path)\n",
        "    config.image_size = 64  # Ensure the image size matches your fine-tuned model's setting\n",
        "    config.num_labels = 14  # Number of output classes\n",
        "    config.patch_size = 8  # Patch size\n",
        "\n",
        "    # Load the model\n",
        "    model = AutoModelForVideoClassification.from_pretrained(config_path, config=config, ignore_mismatched_sizes=True)\n",
        "    \n",
        "    # Load the checkpoint (fine-tuned weights)\n",
        "    checkpoint = torch.load(checkpoint_path)\n",
        "    model.load_state_dict(checkpoint['C:\\\\Users\\\\user\\\\Desktop\\\\raushan'])\n",
        "    model.eval()  # Set the model to evaluation mode\n",
        "    return model\n",
        "\n",
        "# Evaluation function to compute accuracy, precision, recall, F1 score, and confusion matrix\n",
        "def evaluate_model(model, dataloader, device):\n",
        "    all_preds = []\n",
        "    all_labels = []\n",
        "\n",
        "    # Iterate over the validation or test set\n",
        "    with torch.no_grad():\n",
        "        for batch in dataloader:\n",
        "            frames, labels = batch\n",
        "            frames = frames.to(device)\n",
        "            labels = labels.to(device)\n",
        "\n",
        "            # Forward pass: Get model predictions\n",
        "            outputs = model(frames)\n",
        "            logits = outputs.logits\n",
        "            predictions = torch.argmax(logits, dim=1)  # Get the class with the highest logit\n",
        "\n",
        "            all_preds.extend(predictions.cpu().numpy())\n",
        "            all_labels.extend(labels.cpu().numpy())\n",
        "\n",
        "    # Calculate accuracy, precision, recall, and F1 score\n",
        "    accuracy = accuracy_score(all_labels, all_preds)\n",
        "    precision, recall, f1, _ = precision_recall_fscore_support(all_labels, all_preds, average='weighted')\n",
        "    \n",
        "    # Compute confusion matrix\n",
        "    cm = confusion_matrix(all_labels, all_preds)\n",
        "\n",
        "    # Print metrics\n",
        "    print(f\"Accuracy: {accuracy:.4f}\")\n",
        "    print(f\"Precision: {precision:.4f}\")\n",
        "    print(f\"Recall: {recall:.4f}\")\n",
        "    print(f\"F1-Score: {f1:.4f}\")\n",
        "\n",
        "    # Plot the confusion matrix\n",
        "    plot_confusion_matrix(cm)\n",
        "\n",
        "    return accuracy, precision, recall, f1, cm\n",
        "\n",
        "# Function to plot the confusion matrix\n",
        "def plot_confusion_matrix(cm, labels=None):\n",
        "    plt.figure(figsize=(10, 8))\n",
        "    sns.heatmap(cm, annot=True, fmt=\"d\", cmap=\"Blues\", xticklabels=labels, yticklabels=labels)\n",
        "    plt.xlabel('Predicted labels')\n",
        "    plt.ylabel('True labels')\n",
        "    plt.title('Confusion Matrix')\n",
        "    plt.show()\n",
        "\n",
        "# Example usage\n",
        "checkpoint_path = \"C:\\\\Users\\\\user\\\\Desktop\\\\raushan\\\\best_model_epoch_11.pth\"  # Path to your fine-tuned model checkpoint\n",
        "device = torch.device(\"cuda\" if torch.cuda.is_available() else \"cpu\")\n",
        "\n",
        "# Load the model\n",
        "model = load_model(checkpoint_path)\n",
        "model.to(device)\n",
        "\n",
        "# Assuming you have a DataLoader for your test set (e.g., `test_loader`):\n",
        "# Replace this with your actual test or validation DataLoader\n",
        "# test_loader = DataLoader(...)\n",
        "\n",
        "# Evaluate the model on the test set\n",
        "accuracy, precision, recall, f1, cm = evaluate_model(model, test_loader, device)\n",
        "\n"
      ]
    },
    {
      "cell_type": "code",
      "execution_count": 10,
      "metadata": {},
      "outputs": [
        {
          "name": "stderr",
          "output_type": "stream",
          "text": [
            "Some weights of TimesformerForVideoClassification were not initialized from the model checkpoint at facebook/timesformer-base-finetuned-k400 and are newly initialized because the shapes did not match:\n",
            "- timesformer.embeddings.position_embeddings: found shape torch.Size([1, 197, 768]) in the checkpoint and torch.Size([1, 65, 768]) in the model instantiated\n",
            "- timesformer.embeddings.patch_embeddings.projection.weight: found shape torch.Size([768, 3, 16, 16]) in the checkpoint and torch.Size([768, 3, 8, 8]) in the model instantiated\n",
            "- classifier.weight: found shape torch.Size([400, 768]) in the checkpoint and torch.Size([14, 768]) in the model instantiated\n",
            "- classifier.bias: found shape torch.Size([400]) in the checkpoint and torch.Size([14]) in the model instantiated\n",
            "You should probably TRAIN this model on a down-stream task to be able to use it for predictions and inference.\n"
          ]
        },
        {
          "name": "stdout",
          "output_type": "stream",
          "text": [
            "Checkpoint Keys: odict_keys(['timesformer.embeddings.cls_token', 'timesformer.embeddings.position_embeddings', 'timesformer.embeddings.time_embeddings', 'timesformer.embeddings.patch_embeddings.projection.weight', 'timesformer.embeddings.patch_embeddings.projection.bias', 'timesformer.encoder.layer.0.attention.attention.qkv.weight', 'timesformer.encoder.layer.0.attention.attention.qkv.bias', 'timesformer.encoder.layer.0.attention.output.dense.weight', 'timesformer.encoder.layer.0.attention.output.dense.bias', 'timesformer.encoder.layer.0.intermediate.dense.weight', 'timesformer.encoder.layer.0.intermediate.dense.bias', 'timesformer.encoder.layer.0.output.dense.weight', 'timesformer.encoder.layer.0.output.dense.bias', 'timesformer.encoder.layer.0.layernorm_before.weight', 'timesformer.encoder.layer.0.layernorm_before.bias', 'timesformer.encoder.layer.0.layernorm_after.weight', 'timesformer.encoder.layer.0.layernorm_after.bias', 'timesformer.encoder.layer.0.temporal_layernorm.weight', 'timesformer.encoder.layer.0.temporal_layernorm.bias', 'timesformer.encoder.layer.0.temporal_attention.attention.qkv.weight', 'timesformer.encoder.layer.0.temporal_attention.attention.qkv.bias', 'timesformer.encoder.layer.0.temporal_attention.output.dense.weight', 'timesformer.encoder.layer.0.temporal_attention.output.dense.bias', 'timesformer.encoder.layer.0.temporal_dense.weight', 'timesformer.encoder.layer.0.temporal_dense.bias', 'timesformer.encoder.layer.1.attention.attention.qkv.weight', 'timesformer.encoder.layer.1.attention.attention.qkv.bias', 'timesformer.encoder.layer.1.attention.output.dense.weight', 'timesformer.encoder.layer.1.attention.output.dense.bias', 'timesformer.encoder.layer.1.intermediate.dense.weight', 'timesformer.encoder.layer.1.intermediate.dense.bias', 'timesformer.encoder.layer.1.output.dense.weight', 'timesformer.encoder.layer.1.output.dense.bias', 'timesformer.encoder.layer.1.layernorm_before.weight', 'timesformer.encoder.layer.1.layernorm_before.bias', 'timesformer.encoder.layer.1.layernorm_after.weight', 'timesformer.encoder.layer.1.layernorm_after.bias', 'timesformer.encoder.layer.1.temporal_layernorm.weight', 'timesformer.encoder.layer.1.temporal_layernorm.bias', 'timesformer.encoder.layer.1.temporal_attention.attention.qkv.weight', 'timesformer.encoder.layer.1.temporal_attention.attention.qkv.bias', 'timesformer.encoder.layer.1.temporal_attention.output.dense.weight', 'timesformer.encoder.layer.1.temporal_attention.output.dense.bias', 'timesformer.encoder.layer.1.temporal_dense.weight', 'timesformer.encoder.layer.1.temporal_dense.bias', 'timesformer.encoder.layer.2.attention.attention.qkv.weight', 'timesformer.encoder.layer.2.attention.attention.qkv.bias', 'timesformer.encoder.layer.2.attention.output.dense.weight', 'timesformer.encoder.layer.2.attention.output.dense.bias', 'timesformer.encoder.layer.2.intermediate.dense.weight', 'timesformer.encoder.layer.2.intermediate.dense.bias', 'timesformer.encoder.layer.2.output.dense.weight', 'timesformer.encoder.layer.2.output.dense.bias', 'timesformer.encoder.layer.2.layernorm_before.weight', 'timesformer.encoder.layer.2.layernorm_before.bias', 'timesformer.encoder.layer.2.layernorm_after.weight', 'timesformer.encoder.layer.2.layernorm_after.bias', 'timesformer.encoder.layer.2.temporal_layernorm.weight', 'timesformer.encoder.layer.2.temporal_layernorm.bias', 'timesformer.encoder.layer.2.temporal_attention.attention.qkv.weight', 'timesformer.encoder.layer.2.temporal_attention.attention.qkv.bias', 'timesformer.encoder.layer.2.temporal_attention.output.dense.weight', 'timesformer.encoder.layer.2.temporal_attention.output.dense.bias', 'timesformer.encoder.layer.2.temporal_dense.weight', 'timesformer.encoder.layer.2.temporal_dense.bias', 'timesformer.encoder.layer.3.attention.attention.qkv.weight', 'timesformer.encoder.layer.3.attention.attention.qkv.bias', 'timesformer.encoder.layer.3.attention.output.dense.weight', 'timesformer.encoder.layer.3.attention.output.dense.bias', 'timesformer.encoder.layer.3.intermediate.dense.weight', 'timesformer.encoder.layer.3.intermediate.dense.bias', 'timesformer.encoder.layer.3.output.dense.weight', 'timesformer.encoder.layer.3.output.dense.bias', 'timesformer.encoder.layer.3.layernorm_before.weight', 'timesformer.encoder.layer.3.layernorm_before.bias', 'timesformer.encoder.layer.3.layernorm_after.weight', 'timesformer.encoder.layer.3.layernorm_after.bias', 'timesformer.encoder.layer.3.temporal_layernorm.weight', 'timesformer.encoder.layer.3.temporal_layernorm.bias', 'timesformer.encoder.layer.3.temporal_attention.attention.qkv.weight', 'timesformer.encoder.layer.3.temporal_attention.attention.qkv.bias', 'timesformer.encoder.layer.3.temporal_attention.output.dense.weight', 'timesformer.encoder.layer.3.temporal_attention.output.dense.bias', 'timesformer.encoder.layer.3.temporal_dense.weight', 'timesformer.encoder.layer.3.temporal_dense.bias', 'timesformer.encoder.layer.4.attention.attention.qkv.weight', 'timesformer.encoder.layer.4.attention.attention.qkv.bias', 'timesformer.encoder.layer.4.attention.output.dense.weight', 'timesformer.encoder.layer.4.attention.output.dense.bias', 'timesformer.encoder.layer.4.intermediate.dense.weight', 'timesformer.encoder.layer.4.intermediate.dense.bias', 'timesformer.encoder.layer.4.output.dense.weight', 'timesformer.encoder.layer.4.output.dense.bias', 'timesformer.encoder.layer.4.layernorm_before.weight', 'timesformer.encoder.layer.4.layernorm_before.bias', 'timesformer.encoder.layer.4.layernorm_after.weight', 'timesformer.encoder.layer.4.layernorm_after.bias', 'timesformer.encoder.layer.4.temporal_layernorm.weight', 'timesformer.encoder.layer.4.temporal_layernorm.bias', 'timesformer.encoder.layer.4.temporal_attention.attention.qkv.weight', 'timesformer.encoder.layer.4.temporal_attention.attention.qkv.bias', 'timesformer.encoder.layer.4.temporal_attention.output.dense.weight', 'timesformer.encoder.layer.4.temporal_attention.output.dense.bias', 'timesformer.encoder.layer.4.temporal_dense.weight', 'timesformer.encoder.layer.4.temporal_dense.bias', 'timesformer.encoder.layer.5.attention.attention.qkv.weight', 'timesformer.encoder.layer.5.attention.attention.qkv.bias', 'timesformer.encoder.layer.5.attention.output.dense.weight', 'timesformer.encoder.layer.5.attention.output.dense.bias', 'timesformer.encoder.layer.5.intermediate.dense.weight', 'timesformer.encoder.layer.5.intermediate.dense.bias', 'timesformer.encoder.layer.5.output.dense.weight', 'timesformer.encoder.layer.5.output.dense.bias', 'timesformer.encoder.layer.5.layernorm_before.weight', 'timesformer.encoder.layer.5.layernorm_before.bias', 'timesformer.encoder.layer.5.layernorm_after.weight', 'timesformer.encoder.layer.5.layernorm_after.bias', 'timesformer.encoder.layer.5.temporal_layernorm.weight', 'timesformer.encoder.layer.5.temporal_layernorm.bias', 'timesformer.encoder.layer.5.temporal_attention.attention.qkv.weight', 'timesformer.encoder.layer.5.temporal_attention.attention.qkv.bias', 'timesformer.encoder.layer.5.temporal_attention.output.dense.weight', 'timesformer.encoder.layer.5.temporal_attention.output.dense.bias', 'timesformer.encoder.layer.5.temporal_dense.weight', 'timesformer.encoder.layer.5.temporal_dense.bias', 'timesformer.encoder.layer.6.attention.attention.qkv.weight', 'timesformer.encoder.layer.6.attention.attention.qkv.bias', 'timesformer.encoder.layer.6.attention.output.dense.weight', 'timesformer.encoder.layer.6.attention.output.dense.bias', 'timesformer.encoder.layer.6.intermediate.dense.weight', 'timesformer.encoder.layer.6.intermediate.dense.bias', 'timesformer.encoder.layer.6.output.dense.weight', 'timesformer.encoder.layer.6.output.dense.bias', 'timesformer.encoder.layer.6.layernorm_before.weight', 'timesformer.encoder.layer.6.layernorm_before.bias', 'timesformer.encoder.layer.6.layernorm_after.weight', 'timesformer.encoder.layer.6.layernorm_after.bias', 'timesformer.encoder.layer.6.temporal_layernorm.weight', 'timesformer.encoder.layer.6.temporal_layernorm.bias', 'timesformer.encoder.layer.6.temporal_attention.attention.qkv.weight', 'timesformer.encoder.layer.6.temporal_attention.attention.qkv.bias', 'timesformer.encoder.layer.6.temporal_attention.output.dense.weight', 'timesformer.encoder.layer.6.temporal_attention.output.dense.bias', 'timesformer.encoder.layer.6.temporal_dense.weight', 'timesformer.encoder.layer.6.temporal_dense.bias', 'timesformer.encoder.layer.7.attention.attention.qkv.weight', 'timesformer.encoder.layer.7.attention.attention.qkv.bias', 'timesformer.encoder.layer.7.attention.output.dense.weight', 'timesformer.encoder.layer.7.attention.output.dense.bias', 'timesformer.encoder.layer.7.intermediate.dense.weight', 'timesformer.encoder.layer.7.intermediate.dense.bias', 'timesformer.encoder.layer.7.output.dense.weight', 'timesformer.encoder.layer.7.output.dense.bias', 'timesformer.encoder.layer.7.layernorm_before.weight', 'timesformer.encoder.layer.7.layernorm_before.bias', 'timesformer.encoder.layer.7.layernorm_after.weight', 'timesformer.encoder.layer.7.layernorm_after.bias', 'timesformer.encoder.layer.7.temporal_layernorm.weight', 'timesformer.encoder.layer.7.temporal_layernorm.bias', 'timesformer.encoder.layer.7.temporal_attention.attention.qkv.weight', 'timesformer.encoder.layer.7.temporal_attention.attention.qkv.bias', 'timesformer.encoder.layer.7.temporal_attention.output.dense.weight', 'timesformer.encoder.layer.7.temporal_attention.output.dense.bias', 'timesformer.encoder.layer.7.temporal_dense.weight', 'timesformer.encoder.layer.7.temporal_dense.bias', 'timesformer.encoder.layer.8.attention.attention.qkv.weight', 'timesformer.encoder.layer.8.attention.attention.qkv.bias', 'timesformer.encoder.layer.8.attention.output.dense.weight', 'timesformer.encoder.layer.8.attention.output.dense.bias', 'timesformer.encoder.layer.8.intermediate.dense.weight', 'timesformer.encoder.layer.8.intermediate.dense.bias', 'timesformer.encoder.layer.8.output.dense.weight', 'timesformer.encoder.layer.8.output.dense.bias', 'timesformer.encoder.layer.8.layernorm_before.weight', 'timesformer.encoder.layer.8.layernorm_before.bias', 'timesformer.encoder.layer.8.layernorm_after.weight', 'timesformer.encoder.layer.8.layernorm_after.bias', 'timesformer.encoder.layer.8.temporal_layernorm.weight', 'timesformer.encoder.layer.8.temporal_layernorm.bias', 'timesformer.encoder.layer.8.temporal_attention.attention.qkv.weight', 'timesformer.encoder.layer.8.temporal_attention.attention.qkv.bias', 'timesformer.encoder.layer.8.temporal_attention.output.dense.weight', 'timesformer.encoder.layer.8.temporal_attention.output.dense.bias', 'timesformer.encoder.layer.8.temporal_dense.weight', 'timesformer.encoder.layer.8.temporal_dense.bias', 'timesformer.encoder.layer.9.attention.attention.qkv.weight', 'timesformer.encoder.layer.9.attention.attention.qkv.bias', 'timesformer.encoder.layer.9.attention.output.dense.weight', 'timesformer.encoder.layer.9.attention.output.dense.bias', 'timesformer.encoder.layer.9.intermediate.dense.weight', 'timesformer.encoder.layer.9.intermediate.dense.bias', 'timesformer.encoder.layer.9.output.dense.weight', 'timesformer.encoder.layer.9.output.dense.bias', 'timesformer.encoder.layer.9.layernorm_before.weight', 'timesformer.encoder.layer.9.layernorm_before.bias', 'timesformer.encoder.layer.9.layernorm_after.weight', 'timesformer.encoder.layer.9.layernorm_after.bias', 'timesformer.encoder.layer.9.temporal_layernorm.weight', 'timesformer.encoder.layer.9.temporal_layernorm.bias', 'timesformer.encoder.layer.9.temporal_attention.attention.qkv.weight', 'timesformer.encoder.layer.9.temporal_attention.attention.qkv.bias', 'timesformer.encoder.layer.9.temporal_attention.output.dense.weight', 'timesformer.encoder.layer.9.temporal_attention.output.dense.bias', 'timesformer.encoder.layer.9.temporal_dense.weight', 'timesformer.encoder.layer.9.temporal_dense.bias', 'timesformer.encoder.layer.10.attention.attention.qkv.weight', 'timesformer.encoder.layer.10.attention.attention.qkv.bias', 'timesformer.encoder.layer.10.attention.output.dense.weight', 'timesformer.encoder.layer.10.attention.output.dense.bias', 'timesformer.encoder.layer.10.intermediate.dense.weight', 'timesformer.encoder.layer.10.intermediate.dense.bias', 'timesformer.encoder.layer.10.output.dense.weight', 'timesformer.encoder.layer.10.output.dense.bias', 'timesformer.encoder.layer.10.layernorm_before.weight', 'timesformer.encoder.layer.10.layernorm_before.bias', 'timesformer.encoder.layer.10.layernorm_after.weight', 'timesformer.encoder.layer.10.layernorm_after.bias', 'timesformer.encoder.layer.10.temporal_layernorm.weight', 'timesformer.encoder.layer.10.temporal_layernorm.bias', 'timesformer.encoder.layer.10.temporal_attention.attention.qkv.weight', 'timesformer.encoder.layer.10.temporal_attention.attention.qkv.bias', 'timesformer.encoder.layer.10.temporal_attention.output.dense.weight', 'timesformer.encoder.layer.10.temporal_attention.output.dense.bias', 'timesformer.encoder.layer.10.temporal_dense.weight', 'timesformer.encoder.layer.10.temporal_dense.bias', 'timesformer.encoder.layer.11.attention.attention.qkv.weight', 'timesformer.encoder.layer.11.attention.attention.qkv.bias', 'timesformer.encoder.layer.11.attention.output.dense.weight', 'timesformer.encoder.layer.11.attention.output.dense.bias', 'timesformer.encoder.layer.11.intermediate.dense.weight', 'timesformer.encoder.layer.11.intermediate.dense.bias', 'timesformer.encoder.layer.11.output.dense.weight', 'timesformer.encoder.layer.11.output.dense.bias', 'timesformer.encoder.layer.11.layernorm_before.weight', 'timesformer.encoder.layer.11.layernorm_before.bias', 'timesformer.encoder.layer.11.layernorm_after.weight', 'timesformer.encoder.layer.11.layernorm_after.bias', 'timesformer.encoder.layer.11.temporal_layernorm.weight', 'timesformer.encoder.layer.11.temporal_layernorm.bias', 'timesformer.encoder.layer.11.temporal_attention.attention.qkv.weight', 'timesformer.encoder.layer.11.temporal_attention.attention.qkv.bias', 'timesformer.encoder.layer.11.temporal_attention.output.dense.weight', 'timesformer.encoder.layer.11.temporal_attention.output.dense.bias', 'timesformer.encoder.layer.11.temporal_dense.weight', 'timesformer.encoder.layer.11.temporal_dense.bias', 'timesformer.layernorm.weight', 'timesformer.layernorm.bias', 'classifier.weight', 'classifier.bias'])\n",
            "Accuracy: 0.5319\n",
            "Precision: 0.4845\n",
            "Recall: 0.5319\n",
            "F1-Score: 0.4926\n"
          ]
        },
        {
          "data": {
            "image/png": "[encoded data removed]",
            "text/plain": [
              "<Figure size 1000x800 with 2 Axes>"
            ]
          },
          "metadata": {},
          "output_type": "display_data"
        }
      ],
      "source": [
        "import torch\n",
        "from sklearn.metrics import accuracy_score, precision_recall_fscore_support, confusion_matrix\n",
        "import seaborn as sns\n",
        "import matplotlib.pyplot as plt\n",
        "from transformers import AutoConfig, AutoModelForVideoClassification\n",
        "from torch.utils.data import DataLoader\n",
        "import numpy as np\n",
        "\n",
        "# Function to load the model\n",
        "def load_model(checkpoint_path, config_path=\"facebook/timesformer-base-finetuned-k400\"):\n",
        "    # Load the configuration\n",
        "    config = AutoConfig.from_pretrained(config_path)\n",
        "    config.image_size = 64  # Ensure the image size matches your fine-tuned model's setting\n",
        "    config.num_labels = 14  # Number of output classes\n",
        "    config.patch_size = 8  # Patch size\n",
        "\n",
        "    # Load the model\n",
        "    model = AutoModelForVideoClassification.from_pretrained(\n",
        "        config_path, \n",
        "        config=config, \n",
        "        ignore_mismatched_sizes=True\n",
        "    )\n",
        "\n",
        "    # Load the checkpoint (fine-tuned weights)\n",
        "    checkpoint = torch.load(checkpoint_path, map_location=torch.device(\"cpu\"))\n",
        "\n",
        "    # Debug: Print available keys in the checkpoint\n",
        "    print(\"Checkpoint Keys:\", checkpoint.keys())\n",
        "\n",
        "    # Load model weights (handling different save formats)\n",
        "    if \"model_state_dict\" in checkpoint:  # If saved with torch.save(model.state_dict(), path)\n",
        "        model.load_state_dict(checkpoint[\"model_state_dict\"])\n",
        "    else:  # If saved with torch.save(model, path)\n",
        "        model.load_state_dict(checkpoint)\n",
        "\n",
        "    model.eval()  # Set model to evaluation mode\n",
        "    return model\n",
        "\n",
        "# Function to evaluate the model\n",
        "def evaluate_model(model, dataloader, device):\n",
        "    all_preds = []\n",
        "    all_labels = []\n",
        "\n",
        "    model.to(device)  # Move model to GPU/CPU\n",
        "\n",
        "    # Iterate over the test dataset\n",
        "    with torch.no_grad():\n",
        "        for batch in dataloader:\n",
        "            frames, labels = batch\n",
        "            frames = frames.to(device)\n",
        "            labels = labels.to(device)\n",
        "\n",
        "            # Forward pass: Get model predictions\n",
        "            outputs = model(frames)\n",
        "            logits = outputs.logits\n",
        "            predictions = torch.argmax(logits, dim=1)  # Get the class with the highest probability\n",
        "\n",
        "            all_preds.extend(predictions.cpu().numpy())\n",
        "            all_labels.extend(labels.cpu().numpy())\n",
        "\n",
        "    # Calculate accuracy, precision, recall, and F1 score\n",
        "    accuracy = accuracy_score(all_labels, all_preds)\n",
        "    precision, recall, f1, _ = precision_recall_fscore_support(all_labels, all_preds, average='weighted')\n",
        "    \n",
        "    # Compute confusion matrix\n",
        "    cm = confusion_matrix(all_labels, all_preds)\n",
        "\n",
        "    # Print metrics\n",
        "    print(f\"Accuracy: {accuracy:.4f}\")\n",
        "    print(f\"Precision: {precision:.4f}\")\n",
        "    print(f\"Recall: {recall:.4f}\")\n",
        "    print(f\"F1-Score: {f1:.4f}\")\n",
        "\n",
        "    # Plot the confusion matrix\n",
        "    plot_confusion_matrix(cm, labels=list(range(14)))  # Adjust if you have class names\n",
        "\n",
        "    return accuracy, precision, recall, f1, cm\n",
        "\n",
        "# Function to plot the confusion matrix\n",
        "def plot_confusion_matrix(cm, labels):\n",
        "    plt.figure(figsize=(10, 8))\n",
        "    sns.heatmap(cm, annot=True, fmt=\"d\", cmap=\"Blues\", xticklabels=labels, yticklabels=labels)\n",
        "    plt.xlabel('Predicted labels')\n",
        "    plt.ylabel('True labels')\n",
        "    plt.title('Confusion Matrix')\n",
        "    plt.show()\n",
        "\n",
        "# Path to the fine-tuned model checkpoint\n",
        "checkpoint_path = \"C:\\\\Users\\\\user\\\\Desktop\\\\raushan\\\\best_model_epoch_12.pth\"\n",
        "\n",
        "# Device selection\n",
        "device = torch.device(\"cuda\" if torch.cuda.is_available() else \"cpu\")\n",
        "\n",
        "# Load the trained model\n",
        "model = load_model(checkpoint_path)\n",
        "model.to(device)\n",
        "\n",
        "# Evaluate the model on the test set\n",
        "accuracy, precision, recall, f1, cm = evaluate_model(model, test_loader, device)\n"
      ]
    }
  ],
  "metadata": {
    "accelerator": "GPU",
    "colab": {
      "gpuType": "T4",
      "provenance": []
    },
    "kernelspec": {
      "display_name": "Python 3",
      "name": "python3"
    },
    "language_info": {
      "codemirror_mode": {
        "name": "ipython",
        "version": 3
      },
      "file_extension": ".py",
      "mimetype": "text/x-python",
      "name": "python",
      "nbconvert_exporter": "python",
      "pygments_lexer": "ipython3",
      "version": "3.12.6"
    },
    "widgets": {
      "application/vnd.jupyter.widget-state+json": {
        "019243e7224f4e248b46135e2193a267": {
          "model_module": "@jupyter-widgets/base",
          "model_module_version": "1.2.0",
          "model_name": "LayoutModel",
          "state": {
            "_model_module": "@jupyter-widgets/base",
            "_model_module_version": "1.2.0",
            "_model_name": "LayoutModel",
            "_view_count": null,
            "_view_module": "@jupyter-widgets/base",
            "_view_module_version": "1.2.0",
            "_view_name": "LayoutView",
            "align_content": null,
            "align_items": null,
            "align_self": null,
            "border": null,
            "bottom": null,
            "display": null,
            "flex": null,
            "flex_flow": null,
            "grid_area": null,
            "grid_auto_columns": null,
            "grid_auto_flow": null,
            "grid_auto_rows": null,
            "grid_column": null,
            "grid_gap": null,
            "grid_row": null,
            "grid_template_areas": null,
            "grid_template_columns": null,
            "grid_template_rows": null,
            "height": null,
            "justify_content": null,
            "justify_items": null,
            "left": null,
            "margin": null,
            "max_height": null,
            "max_width": null,
            "min_height": null,
            "min_width": null,
            "object_fit": null,
            "object_position": null,
            "order": null,
            "overflow": null,
            "overflow_x": null,
            "overflow_y": null,
            "padding": null,
            "right": null,
            "top": null,
            "visibility": null,
            "width": null
          }
        },
        "08390d94f7984820a4f3081bab293101": {
          "model_module": "@jupyter-widgets/base",
          "model_module_version": "1.2.0",
          "model_name": "LayoutModel",
          "state": {
            "_model_module": "@jupyter-widgets/base",
            "_model_module_version": "1.2.0",
            "_model_name": "LayoutModel",
            "_view_count": null,
            "_view_module": "@jupyter-widgets/base",
            "_view_module_version": "1.2.0",
            "_view_name": "LayoutView",
            "align_content": null,
            "align_items": null,
            "align_self": null,
            "border": null,
            "bottom": null,
            "display": null,
            "flex": null,
            "flex_flow": null,
            "grid_area": null,
            "grid_auto_columns": null,
            "grid_auto_flow": null,
            "grid_auto_rows": null,
            "grid_column": null,
            "grid_gap": null,
            "grid_row": null,
            "grid_template_areas": null,
            "grid_template_columns": null,
            "grid_template_rows": null,
            "height": null,
            "justify_content": null,
            "justify_items": null,
            "left": null,
            "margin": null,
            "max_height": null,
            "max_width": null,
            "min_height": null,
            "min_width": null,
            "object_fit": null,
            "object_position": null,
            "order": null,
            "overflow": null,
            "overflow_x": null,
            "overflow_y": null,
            "padding": null,
            "right": null,
            "top": null,
            "visibility": null,
            "width": null
          }
        },
        "1a99f2603c0241488694a0ba3a7f395b": {
          "model_module": "@jupyter-widgets/base",
          "model_module_version": "1.2.0",
          "model_name": "LayoutModel",
          "state": {
            "_model_module": "@jupyter-widgets/base",
            "_model_module_version": "1.2.0",
            "_model_name": "LayoutModel",
            "_view_count": null,
            "_view_module": "@jupyter-widgets/base",
            "_view_module_version": "1.2.0",
            "_view_name": "LayoutView",
            "align_content": null,
            "align_items": null,
            "align_self": null,
            "border": null,
            "bottom": null,
            "display": null,
            "flex": null,
            "flex_flow": null,
            "grid_area": null,
            "grid_auto_columns": null,
            "grid_auto_flow": null,
            "grid_auto_rows": null,
            "grid_column": null,
            "grid_gap": null,
            "grid_row": null,
            "grid_template_areas": null,
            "grid_template_columns": null,
            "grid_template_rows": null,
            "height": null,
            "justify_content": null,
            "justify_items": null,
            "left": null,
            "margin": null,
            "max_height": null,
            "max_width": null,
            "min_height": null,
            "min_width": null,
            "object_fit": null,
            "object_position": null,
            "order": null,
            "overflow": null,
            "overflow_x": null,
            "overflow_y": null,
            "padding": null,
            "right": null,
            "top": null,
            "visibility": null,
            "width": null
          }
        },
        "1f445d2cbe164eac9943b9169e05a066": {
          "model_module": "@jupyter-widgets/controls",
          "model_module_version": "1.5.0",
          "model_name": "FloatProgressModel",
          "state": {
            "_dom_classes": [],
            "_model_module": "@jupyter-widgets/controls",
            "_model_module_version": "1.5.0",
            "_model_name": "FloatProgressModel",
            "_view_count": null,
            "_view_module": "@jupyter-widgets/controls",
            "_view_module_version": "1.5.0",
            "_view_name": "ProgressView",
            "bar_style": "success",
            "description": "",
            "description_tooltip": null,
            "layout": "IPY_MODEL_b87464a1460d4ff4b21b428fbeaf7aae",
            "max": 486348721,
            "min": 0,
            "orientation": "horizontal",
            "style": "IPY_MODEL_73d355f2b37b40e0a7e61dbccc3c436f",
            "value": 486348721
          }
        },
        "2212e87e4fa246bfb80fc3de5709a792": {
          "model_module": "@jupyter-widgets/base",
          "model_module_version": "1.2.0",
          "model_name": "LayoutModel",
          "state": {
            "_model_module": "@jupyter-widgets/base",
            "_model_module_version": "1.2.0",
            "_model_name": "LayoutModel",
            "_view_count": null,
            "_view_module": "@jupyter-widgets/base",
            "_view_module_version": "1.2.0",
            "_view_name": "LayoutView",
            "align_content": null,
            "align_items": null,
            "align_self": null,
            "border": null,
            "bottom": null,
            "display": null,
            "flex": null,
            "flex_flow": null,
            "grid_area": null,
            "grid_auto_columns": null,
            "grid_auto_flow": null,
            "grid_auto_rows": null,
            "grid_column": null,
            "grid_gap": null,
            "grid_row": null,
            "grid_template_areas": null,
            "grid_template_columns": null,
            "grid_template_rows": null,
            "height": null,
            "justify_content": null,
            "justify_items": null,
            "left": null,
            "margin": null,
            "max_height": null,
            "max_width": null,
            "min_height": null,
            "min_width": null,
            "object_fit": null,
            "object_position": null,
            "order": null,
            "overflow": null,
            "overflow_x": null,
            "overflow_y": null,
            "padding": null,
            "right": null,
            "top": null,
            "visibility": null,
            "width": null
          }
        },
        "22cf733bc0524ac4ab466e0089c03cea": {
          "model_module": "@jupyter-widgets/base",
          "model_module_version": "1.2.0",
          "model_name": "LayoutModel",
          "state": {
            "_model_module": "@jupyter-widgets/base",
            "_model_module_version": "1.2.0",
            "_model_name": "LayoutModel",
            "_view_count": null,
            "_view_module": "@jupyter-widgets/base",
            "_view_module_version": "1.2.0",
            "_view_name": "LayoutView",
            "align_content": null,
            "align_items": null,
            "align_self": null,
            "border": null,
            "bottom": null,
            "display": null,
            "flex": null,
            "flex_flow": null,
            "grid_area": null,
            "grid_auto_columns": null,
            "grid_auto_flow": null,
            "grid_auto_rows": null,
            "grid_column": null,
            "grid_gap": null,
            "grid_row": null,
            "grid_template_areas": null,
            "grid_template_columns": null,
            "grid_template_rows": null,
            "height": null,
            "justify_content": null,
            "justify_items": null,
            "left": null,
            "margin": null,
            "max_height": null,
            "max_width": null,
            "min_height": null,
            "min_width": null,
            "object_fit": null,
            "object_position": null,
            "order": null,
            "overflow": null,
            "overflow_x": null,
            "overflow_y": null,
            "padding": null,
            "right": null,
            "top": null,
            "visibility": null,
            "width": null
          }
        },
        "31d21d02b8ce43acb2968082191ec8ce": {
          "model_module": "@jupyter-widgets/controls",
          "model_module_version": "1.5.0",
          "model_name": "ProgressStyleModel",
          "state": {
            "_model_module": "@jupyter-widgets/controls",
            "_model_module_version": "1.5.0",
            "_model_name": "ProgressStyleModel",
            "_view_count": null,
            "_view_module": "@jupyter-widgets/base",
            "_view_module_version": "1.2.0",
            "_view_name": "StyleView",
            "bar_color": null,
            "description_width": ""
          }
        },
        "333ec5cd772843fe8fc041eca37e8d89": {
          "model_module": "@jupyter-widgets/base",
          "model_module_version": "1.2.0",
          "model_name": "LayoutModel",
          "state": {
            "_model_module": "@jupyter-widgets/base",
            "_model_module_version": "1.2.0",
            "_model_name": "LayoutModel",
            "_view_count": null,
            "_view_module": "@jupyter-widgets/base",
            "_view_module_version": "1.2.0",
            "_view_name": "LayoutView",
            "align_content": null,
            "align_items": null,
            "align_self": null,
            "border": null,
            "bottom": null,
            "display": null,
            "flex": null,
            "flex_flow": null,
            "grid_area": null,
            "grid_auto_columns": null,
            "grid_auto_flow": null,
            "grid_auto_rows": null,
            "grid_column": null,
            "grid_gap": null,
            "grid_row": null,
            "grid_template_areas": null,
            "grid_template_columns": null,
            "grid_template_rows": null,
            "height": null,
            "justify_content": null,
            "justify_items": null,
            "left": null,
            "margin": null,
            "max_height": null,
            "max_width": null,
            "min_height": null,
            "min_width": null,
            "object_fit": null,
            "object_position": null,
            "order": null,
            "overflow": null,
            "overflow_x": null,
            "overflow_y": null,
            "padding": null,
            "right": null,
            "top": null,
            "visibility": null,
            "width": null
          }
        },
        "398196f92fe3458dbbd5c91a2aa563fc": {
          "model_module": "@jupyter-widgets/controls",
          "model_module_version": "1.5.0",
          "model_name": "HBoxModel",
          "state": {
            "_dom_classes": [],
            "_model_module": "@jupyter-widgets/controls",
            "_model_module_version": "1.5.0",
            "_model_name": "HBoxModel",
            "_view_count": null,
            "_view_module": "@jupyter-widgets/controls",
            "_view_module_version": "1.5.0",
            "_view_name": "HBoxView",
            "box_style": "",
            "children": [
              "IPY_MODEL_4a95b4b48428482584e5e93998ec294d",
              "IPY_MODEL_e9bf0034dea1412aafafed56e81bf084",
              "IPY_MODEL_99bcf45f49ea465280fd15430b317439"
            ],
            "layout": "IPY_MODEL_8de70ed3a3ec4ef2b3ebf29112a990c9"
          }
        },
        "44889dc130534b3dae0704d39094959c": {
          "model_module": "@jupyter-widgets/base",
          "model_module_version": "1.2.0",
          "model_name": "LayoutModel",
          "state": {
            "_model_module": "@jupyter-widgets/base",
            "_model_module_version": "1.2.0",
            "_model_name": "LayoutModel",
            "_view_count": null,
            "_view_module": "@jupyter-widgets/base",
            "_view_module_version": "1.2.0",
            "_view_name": "LayoutView",
            "align_content": null,
            "align_items": null,
            "align_self": null,
            "border": null,
            "bottom": null,
            "display": null,
            "flex": null,
            "flex_flow": null,
            "grid_area": null,
            "grid_auto_columns": null,
            "grid_auto_flow": null,
            "grid_auto_rows": null,
            "grid_column": null,
            "grid_gap": null,
            "grid_row": null,
            "grid_template_areas": null,
            "grid_template_columns": null,
            "grid_template_rows": null,
            "height": null,
            "justify_content": null,
            "justify_items": null,
            "left": null,
            "margin": null,
            "max_height": null,
            "max_width": null,
            "min_height": null,
            "min_width": null,
            "object_fit": null,
            "object_position": null,
            "order": null,
            "overflow": null,
            "overflow_x": null,
            "overflow_y": null,
            "padding": null,
            "right": null,
            "top": null,
            "visibility": null,
            "width": null
          }
        },
        "4a95b4b48428482584e5e93998ec294d": {
          "model_module": "@jupyter-widgets/controls",
          "model_module_version": "1.5.0",
          "model_name": "HTMLModel",
          "state": {
            "_dom_classes": [],
            "_model_module": "@jupyter-widgets/controls",
            "_model_module_version": "1.5.0",
            "_model_name": "HTMLModel",
            "_view_count": null,
            "_view_module": "@jupyter-widgets/controls",
            "_view_module_version": "1.5.0",
            "_view_name": "HTMLView",
            "description": "",
            "description_tooltip": null,
            "layout": "IPY_MODEL_2212e87e4fa246bfb80fc3de5709a792",
            "placeholder": "​",
            "style": "IPY_MODEL_80260a16422c4ff8962bb836552dac13",
            "value": "config.json: 100%"
          }
        },
        "543ded25c4b04a1bae801316b41e7b14": {
          "model_module": "@jupyter-widgets/controls",
          "model_module_version": "1.5.0",
          "model_name": "HTMLModel",
          "state": {
            "_dom_classes": [],
            "_model_module": "@jupyter-widgets/controls",
            "_model_module_version": "1.5.0",
            "_model_name": "HTMLModel",
            "_view_count": null,
            "_view_module": "@jupyter-widgets/controls",
            "_view_module_version": "1.5.0",
            "_view_name": "HTMLView",
            "description": "",
            "description_tooltip": null,
            "layout": "IPY_MODEL_ae1a06c80fab4bc29fa587c4c128718c",
            "placeholder": "​",
            "style": "IPY_MODEL_a7fa1c194d4048a388e84c8c3342de29",
            "value": " 412/412 [00:00&lt;00:00, 9.75kB/s]"
          }
        },
        "5fbf44d3fb1e468986d7e1c2b64a3f7c": {
          "model_module": "@jupyter-widgets/base",
          "model_module_version": "1.2.0",
          "model_name": "LayoutModel",
          "state": {
            "_model_module": "@jupyter-widgets/base",
            "_model_module_version": "1.2.0",
            "_model_name": "LayoutModel",
            "_view_count": null,
            "_view_module": "@jupyter-widgets/base",
            "_view_module_version": "1.2.0",
            "_view_name": "LayoutView",
            "align_content": null,
            "align_items": null,
            "align_self": null,
            "border": null,
            "bottom": null,
            "display": null,
            "flex": null,
            "flex_flow": null,
            "grid_area": null,
            "grid_auto_columns": null,
            "grid_auto_flow": null,
            "grid_auto_rows": null,
            "grid_column": null,
            "grid_gap": null,
            "grid_row": null,
            "grid_template_areas": null,
            "grid_template_columns": null,
            "grid_template_rows": null,
            "height": null,
            "justify_content": null,
            "justify_items": null,
            "left": null,
            "margin": null,
            "max_height": null,
            "max_width": null,
            "min_height": null,
            "min_width": null,
            "object_fit": null,
            "object_position": null,
            "order": null,
            "overflow": null,
            "overflow_x": null,
            "overflow_y": null,
            "padding": null,
            "right": null,
            "top": null,
            "visibility": null,
            "width": null
          }
        },
        "73d355f2b37b40e0a7e61dbccc3c436f": {
          "model_module": "@jupyter-widgets/controls",
          "model_module_version": "1.5.0",
          "model_name": "ProgressStyleModel",
          "state": {
            "_model_module": "@jupyter-widgets/controls",
            "_model_module_version": "1.5.0",
            "_model_name": "ProgressStyleModel",
            "_view_count": null,
            "_view_module": "@jupyter-widgets/base",
            "_view_module_version": "1.2.0",
            "_view_name": "StyleView",
            "bar_color": null,
            "description_width": ""
          }
        },
        "7839e369c8b5439d82a3ede210e93556": {
          "model_module": "@jupyter-widgets/controls",
          "model_module_version": "1.5.0",
          "model_name": "DescriptionStyleModel",
          "state": {
            "_model_module": "@jupyter-widgets/controls",
            "_model_module_version": "1.5.0",
            "_model_name": "DescriptionStyleModel",
            "_view_count": null,
            "_view_module": "@jupyter-widgets/base",
            "_view_module_version": "1.2.0",
            "_view_name": "StyleView",
            "description_width": ""
          }
        },
        "80260a16422c4ff8962bb836552dac13": {
          "model_module": "@jupyter-widgets/controls",
          "model_module_version": "1.5.0",
          "model_name": "DescriptionStyleModel",
          "state": {
            "_model_module": "@jupyter-widgets/controls",
            "_model_module_version": "1.5.0",
            "_model_name": "DescriptionStyleModel",
            "_view_count": null,
            "_view_module": "@jupyter-widgets/base",
            "_view_module_version": "1.2.0",
            "_view_name": "StyleView",
            "description_width": ""
          }
        },
        "8758105677f24949ad39c3aa650a165a": {
          "model_module": "@jupyter-widgets/controls",
          "model_module_version": "1.5.0",
          "model_name": "DescriptionStyleModel",
          "state": {
            "_model_module": "@jupyter-widgets/controls",
            "_model_module_version": "1.5.0",
            "_model_name": "DescriptionStyleModel",
            "_view_count": null,
            "_view_module": "@jupyter-widgets/base",
            "_view_module_version": "1.2.0",
            "_view_name": "StyleView",
            "description_width": ""
          }
        },
        "8de70ed3a3ec4ef2b3ebf29112a990c9": {
          "model_module": "@jupyter-widgets/base",
          "model_module_version": "1.2.0",
          "model_name": "LayoutModel",
          "state": {
            "_model_module": "@jupyter-widgets/base",
            "_model_module_version": "1.2.0",
            "_model_name": "LayoutModel",
            "_view_count": null,
            "_view_module": "@jupyter-widgets/base",
            "_view_module_version": "1.2.0",
            "_view_name": "LayoutView",
            "align_content": null,
            "align_items": null,
            "align_self": null,
            "border": null,
            "bottom": null,
            "display": null,
            "flex": null,
            "flex_flow": null,
            "grid_area": null,
            "grid_auto_columns": null,
            "grid_auto_flow": null,
            "grid_auto_rows": null,
            "grid_column": null,
            "grid_gap": null,
            "grid_row": null,
            "grid_template_areas": null,
            "grid_template_columns": null,
            "grid_template_rows": null,
            "height": null,
            "justify_content": null,
            "justify_items": null,
            "left": null,
            "margin": null,
            "max_height": null,
            "max_width": null,
            "min_height": null,
            "min_width": null,
            "object_fit": null,
            "object_position": null,
            "order": null,
            "overflow": null,
            "overflow_x": null,
            "overflow_y": null,
            "padding": null,
            "right": null,
            "top": null,
            "visibility": null,
            "width": null
          }
        },
        "99bcf45f49ea465280fd15430b317439": {
          "model_module": "@jupyter-widgets/controls",
          "model_module_version": "1.5.0",
          "model_name": "HTMLModel",
          "state": {
            "_dom_classes": [],
            "_model_module": "@jupyter-widgets/controls",
            "_model_module_version": "1.5.0",
            "_model_name": "HTMLModel",
            "_view_count": null,
            "_view_module": "@jupyter-widgets/controls",
            "_view_module_version": "1.5.0",
            "_view_name": "HTMLView",
            "description": "",
            "description_tooltip": null,
            "layout": "IPY_MODEL_08390d94f7984820a4f3081bab293101",
            "placeholder": "​",
            "style": "IPY_MODEL_9e348447ac2d431aa4f20d65c7483a0c",
            "value": " 22.7k/22.7k [00:00&lt;00:00, 415kB/s]"
          }
        },
        "9e348447ac2d431aa4f20d65c7483a0c": {
          "model_module": "@jupyter-widgets/controls",
          "model_module_version": "1.5.0",
          "model_name": "DescriptionStyleModel",
          "state": {
            "_model_module": "@jupyter-widgets/controls",
            "_model_module_version": "1.5.0",
            "_model_name": "DescriptionStyleModel",
            "_view_count": null,
            "_view_module": "@jupyter-widgets/base",
            "_view_module_version": "1.2.0",
            "_view_name": "StyleView",
            "description_width": ""
          }
        },
        "9e446983144145f38f3fe6a8696f7e74": {
          "model_module": "@jupyter-widgets/controls",
          "model_module_version": "1.5.0",
          "model_name": "HTMLModel",
          "state": {
            "_dom_classes": [],
            "_model_module": "@jupyter-widgets/controls",
            "_model_module_version": "1.5.0",
            "_model_name": "HTMLModel",
            "_view_count": null,
            "_view_module": "@jupyter-widgets/controls",
            "_view_module_version": "1.5.0",
            "_view_name": "HTMLView",
            "description": "",
            "description_tooltip": null,
            "layout": "IPY_MODEL_22cf733bc0524ac4ab466e0089c03cea",
            "placeholder": "​",
            "style": "IPY_MODEL_7839e369c8b5439d82a3ede210e93556",
            "value": "pytorch_model.bin: 100%"
          }
        },
        "a70404df53a544b4a53fe4a9d0d36c48": {
          "model_module": "@jupyter-widgets/controls",
          "model_module_version": "1.5.0",
          "model_name": "HBoxModel",
          "state": {
            "_dom_classes": [],
            "_model_module": "@jupyter-widgets/controls",
            "_model_module_version": "1.5.0",
            "_model_name": "HBoxModel",
            "_view_count": null,
            "_view_module": "@jupyter-widgets/controls",
            "_view_module_version": "1.5.0",
            "_view_name": "HBoxView",
            "box_style": "",
            "children": [
              "IPY_MODEL_9e446983144145f38f3fe6a8696f7e74",
              "IPY_MODEL_1f445d2cbe164eac9943b9169e05a066",
              "IPY_MODEL_ffeac10b9ea34e66bc5b68302529eafc"
            ],
            "layout": "IPY_MODEL_333ec5cd772843fe8fc041eca37e8d89"
          }
        },
        "a7fa1c194d4048a388e84c8c3342de29": {
          "model_module": "@jupyter-widgets/controls",
          "model_module_version": "1.5.0",
          "model_name": "DescriptionStyleModel",
          "state": {
            "_model_module": "@jupyter-widgets/controls",
            "_model_module_version": "1.5.0",
            "_model_name": "DescriptionStyleModel",
            "_view_count": null,
            "_view_module": "@jupyter-widgets/base",
            "_view_module_version": "1.2.0",
            "_view_name": "StyleView",
            "description_width": ""
          }
        },
        "a99f77b726cc4a4a9fd50a3e51960fa9": {
          "model_module": "@jupyter-widgets/controls",
          "model_module_version": "1.5.0",
          "model_name": "ProgressStyleModel",
          "state": {
            "_model_module": "@jupyter-widgets/controls",
            "_model_module_version": "1.5.0",
            "_model_name": "ProgressStyleModel",
            "_view_count": null,
            "_view_module": "@jupyter-widgets/base",
            "_view_module_version": "1.2.0",
            "_view_name": "StyleView",
            "bar_color": null,
            "description_width": ""
          }
        },
        "ab0e40a656df47c9a7eeb3b661c30a9e": {
          "model_module": "@jupyter-widgets/controls",
          "model_module_version": "1.5.0",
          "model_name": "HBoxModel",
          "state": {
            "_dom_classes": [],
            "_model_module": "@jupyter-widgets/controls",
            "_model_module_version": "1.5.0",
            "_model_name": "HBoxModel",
            "_view_count": null,
            "_view_module": "@jupyter-widgets/controls",
            "_view_module_version": "1.5.0",
            "_view_name": "HBoxView",
            "box_style": "",
            "children": [
              "IPY_MODEL_b1b317ee181c40c8a6747c42f7b7b93b",
              "IPY_MODEL_b705ae74ea354e45980fd45fe04f2ce0",
              "IPY_MODEL_543ded25c4b04a1bae801316b41e7b14"
            ],
            "layout": "IPY_MODEL_1a99f2603c0241488694a0ba3a7f395b"
          }
        },
        "ae1a06c80fab4bc29fa587c4c128718c": {
          "model_module": "@jupyter-widgets/base",
          "model_module_version": "1.2.0",
          "model_name": "LayoutModel",
          "state": {
            "_model_module": "@jupyter-widgets/base",
            "_model_module_version": "1.2.0",
            "_model_name": "LayoutModel",
            "_view_count": null,
            "_view_module": "@jupyter-widgets/base",
            "_view_module_version": "1.2.0",
            "_view_name": "LayoutView",
            "align_content": null,
            "align_items": null,
            "align_self": null,
            "border": null,
            "bottom": null,
            "display": null,
            "flex": null,
            "flex_flow": null,
            "grid_area": null,
            "grid_auto_columns": null,
            "grid_auto_flow": null,
            "grid_auto_rows": null,
            "grid_column": null,
            "grid_gap": null,
            "grid_row": null,
            "grid_template_areas": null,
            "grid_template_columns": null,
            "grid_template_rows": null,
            "height": null,
            "justify_content": null,
            "justify_items": null,
            "left": null,
            "margin": null,
            "max_height": null,
            "max_width": null,
            "min_height": null,
            "min_width": null,
            "object_fit": null,
            "object_position": null,
            "order": null,
            "overflow": null,
            "overflow_x": null,
            "overflow_y": null,
            "padding": null,
            "right": null,
            "top": null,
            "visibility": null,
            "width": null
          }
        },
        "b1b317ee181c40c8a6747c42f7b7b93b": {
          "model_module": "@jupyter-widgets/controls",
          "model_module_version": "1.5.0",
          "model_name": "HTMLModel",
          "state": {
            "_dom_classes": [],
            "_model_module": "@jupyter-widgets/controls",
            "_model_module_version": "1.5.0",
            "_model_name": "HTMLModel",
            "_view_count": null,
            "_view_module": "@jupyter-widgets/controls",
            "_view_module_version": "1.5.0",
            "_view_name": "HTMLView",
            "description": "",
            "description_tooltip": null,
            "layout": "IPY_MODEL_019243e7224f4e248b46135e2193a267",
            "placeholder": "​",
            "style": "IPY_MODEL_8758105677f24949ad39c3aa650a165a",
            "value": "preprocessor_config.json: 100%"
          }
        },
        "b705ae74ea354e45980fd45fe04f2ce0": {
          "model_module": "@jupyter-widgets/controls",
          "model_module_version": "1.5.0",
          "model_name": "FloatProgressModel",
          "state": {
            "_dom_classes": [],
            "_model_module": "@jupyter-widgets/controls",
            "_model_module_version": "1.5.0",
            "_model_name": "FloatProgressModel",
            "_view_count": null,
            "_view_module": "@jupyter-widgets/controls",
            "_view_module_version": "1.5.0",
            "_view_name": "ProgressView",
            "bar_style": "success",
            "description": "",
            "description_tooltip": null,
            "layout": "IPY_MODEL_44889dc130534b3dae0704d39094959c",
            "max": 412,
            "min": 0,
            "orientation": "horizontal",
            "style": "IPY_MODEL_31d21d02b8ce43acb2968082191ec8ce",
            "value": 412
          }
        },
        "b87464a1460d4ff4b21b428fbeaf7aae": {
          "model_module": "@jupyter-widgets/base",
          "model_module_version": "1.2.0",
          "model_name": "LayoutModel",
          "state": {
            "_model_module": "@jupyter-widgets/base",
            "_model_module_version": "1.2.0",
            "_model_name": "LayoutModel",
            "_view_count": null,
            "_view_module": "@jupyter-widgets/base",
            "_view_module_version": "1.2.0",
            "_view_name": "LayoutView",
            "align_content": null,
            "align_items": null,
            "align_self": null,
            "border": null,
            "bottom": null,
            "display": null,
            "flex": null,
            "flex_flow": null,
            "grid_area": null,
            "grid_auto_columns": null,
            "grid_auto_flow": null,
            "grid_auto_rows": null,
            "grid_column": null,
            "grid_gap": null,
            "grid_row": null,
            "grid_template_areas": null,
            "grid_template_columns": null,
            "grid_template_rows": null,
            "height": null,
            "justify_content": null,
            "justify_items": null,
            "left": null,
            "margin": null,
            "max_height": null,
            "max_width": null,
            "min_height": null,
            "min_width": null,
            "object_fit": null,
            "object_position": null,
            "order": null,
            "overflow": null,
            "overflow_x": null,
            "overflow_y": null,
            "padding": null,
            "right": null,
            "top": null,
            "visibility": null,
            "width": null
          }
        },
        "c3d3b5b0473b4243a781da67a0e7bc32": {
          "model_module": "@jupyter-widgets/controls",
          "model_module_version": "1.5.0",
          "model_name": "DescriptionStyleModel",
          "state": {
            "_model_module": "@jupyter-widgets/controls",
            "_model_module_version": "1.5.0",
            "_model_name": "DescriptionStyleModel",
            "_view_count": null,
            "_view_module": "@jupyter-widgets/base",
            "_view_module_version": "1.2.0",
            "_view_name": "StyleView",
            "description_width": ""
          }
        },
        "d3322e17cba64302a6fd52c6ddd7b462": {
          "model_module": "@jupyter-widgets/base",
          "model_module_version": "1.2.0",
          "model_name": "LayoutModel",
          "state": {
            "_model_module": "@jupyter-widgets/base",
            "_model_module_version": "1.2.0",
            "_model_name": "LayoutModel",
            "_view_count": null,
            "_view_module": "@jupyter-widgets/base",
            "_view_module_version": "1.2.0",
            "_view_name": "LayoutView",
            "align_content": null,
            "align_items": null,
            "align_self": null,
            "border": null,
            "bottom": null,
            "display": null,
            "flex": null,
            "flex_flow": null,
            "grid_area": null,
            "grid_auto_columns": null,
            "grid_auto_flow": null,
            "grid_auto_rows": null,
            "grid_column": null,
            "grid_gap": null,
            "grid_row": null,
            "grid_template_areas": null,
            "grid_template_columns": null,
            "grid_template_rows": null,
            "height": null,
            "justify_content": null,
            "justify_items": null,
            "left": null,
            "margin": null,
            "max_height": null,
            "max_width": null,
            "min_height": null,
            "min_width": null,
            "object_fit": null,
            "object_position": null,
            "order": null,
            "overflow": null,
            "overflow_x": null,
            "overflow_y": null,
            "padding": null,
            "right": null,
            "top": null,
            "visibility": null,
            "width": null
          }
        },
        "e9bf0034dea1412aafafed56e81bf084": {
          "model_module": "@jupyter-widgets/controls",
          "model_module_version": "1.5.0",
          "model_name": "FloatProgressModel",
          "state": {
            "_dom_classes": [],
            "_model_module": "@jupyter-widgets/controls",
            "_model_module_version": "1.5.0",
            "_model_name": "FloatProgressModel",
            "_view_count": null,
            "_view_module": "@jupyter-widgets/controls",
            "_view_module_version": "1.5.0",
            "_view_name": "ProgressView",
            "bar_style": "success",
            "description": "",
            "description_tooltip": null,
            "layout": "IPY_MODEL_5fbf44d3fb1e468986d7e1c2b64a3f7c",
            "max": 22723,
            "min": 0,
            "orientation": "horizontal",
            "style": "IPY_MODEL_a99f77b726cc4a4a9fd50a3e51960fa9",
            "value": 22723
          }
        },
        "ffeac10b9ea34e66bc5b68302529eafc": {
          "model_module": "@jupyter-widgets/controls",
          "model_module_version": "1.5.0",
          "model_name": "HTMLModel",
          "state": {
            "_dom_classes": [],
            "_model_module": "@jupyter-widgets/controls",
            "_model_module_version": "1.5.0",
            "_model_name": "HTMLModel",
            "_view_count": null,
            "_view_module": "@jupyter-widgets/controls",
            "_view_module_version": "1.5.0",
            "_view_name": "HTMLView",
            "description": "",
            "description_tooltip": null,
            "layout": "IPY_MODEL_d3322e17cba64302a6fd52c6ddd7b462",
            "placeholder": "​",
            "style": "IPY_MODEL_c3d3b5b0473b4243a781da67a0e7bc32",
            "value": " 486M/486M [00:05&lt;00:00, 154MB/s]"
          }
        }
      }
    }
  },
  "nbformat": 4,
  "nbformat_minor": 0
}
